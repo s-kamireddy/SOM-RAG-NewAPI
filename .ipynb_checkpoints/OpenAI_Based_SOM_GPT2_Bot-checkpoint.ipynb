{
 "cells": [
  {
   "cell_type": "raw",
   "id": "731e517c-7bc7-4499-9fe8-00f1599f42f0",
   "metadata": {},
   "source": [
    "'''\n",
    "------------------------------------------------------------------------------\n",
    "   Copyright 2024 Murali Kashaboina\n",
    "\n",
    "   Licensed under the Apache License, Version 2.0 (the \"License\");\n",
    "   you may not use this file except in compliance with the License.\n",
    "   You may obtain a copy of the License at\n",
    "\n",
    "       http://www.apache.org/licenses/LICENSE-2.0\n",
    "\n",
    "   Unless required by applicable law or agreed to in writing, software\n",
    "   distributed under the License is distributed on an \"AS IS\" BASIS,\n",
    "   WITHOUT WARRANTIES OR CONDITIONS OF ANY KIND, either express or implied.\n",
    "   See the License for the specific language governing permissions and\n",
    "   limitations under the License.\n",
    "------------------------------------------------------------------------------\n",
    "'''"
   ]
  },
  {
   "cell_type": "code",
   "execution_count": 1,
   "id": "d62c641c-0ed8-43ea-9522-da9ac60d3fac",
   "metadata": {
    "tags": []
   },
   "outputs": [
    {
     "name": "stdout",
     "output_type": "stream",
     "text": [
      "Requirement already satisfied: matplotlib in /opt/conda/lib/python3.10/site-packages (3.8.4)\n",
      "Requirement already satisfied: contourpy>=1.0.1 in /opt/conda/lib/python3.10/site-packages (from matplotlib) (1.2.1)\n",
      "Requirement already satisfied: cycler>=0.10 in /opt/conda/lib/python3.10/site-packages (from matplotlib) (0.12.1)\n",
      "Requirement already satisfied: fonttools>=4.22.0 in /opt/conda/lib/python3.10/site-packages (from matplotlib) (4.51.0)\n",
      "Requirement already satisfied: kiwisolver>=1.3.1 in /opt/conda/lib/python3.10/site-packages (from matplotlib) (1.4.5)\n",
      "Requirement already satisfied: numpy>=1.21 in /opt/conda/lib/python3.10/site-packages (from matplotlib) (1.26.4)\n",
      "Requirement already satisfied: packaging>=20.0 in /opt/conda/lib/python3.10/site-packages (from matplotlib) (23.2)\n",
      "Requirement already satisfied: pillow>=8 in /opt/conda/lib/python3.10/site-packages (from matplotlib) (10.3.0)\n",
      "Requirement already satisfied: pyparsing>=2.3.1 in /opt/conda/lib/python3.10/site-packages (from matplotlib) (3.1.2)\n",
      "Requirement already satisfied: python-dateutil>=2.7 in /opt/conda/lib/python3.10/site-packages (from matplotlib) (2.9.0)\n",
      "Requirement already satisfied: six>=1.5 in /opt/conda/lib/python3.10/site-packages (from python-dateutil>=2.7->matplotlib) (1.16.0)\n",
      "Note: you may need to restart the kernel to use updated packages.\n",
      "Requirement already satisfied: torch in /opt/conda/lib/python3.10/site-packages (2.0.0.post304)\n",
      "Requirement already satisfied: filelock in /opt/conda/lib/python3.10/site-packages (from torch) (3.14.0)\n",
      "Requirement already satisfied: typing-extensions in /opt/conda/lib/python3.10/site-packages (from torch) (4.11.0)\n",
      "Requirement already satisfied: sympy in /opt/conda/lib/python3.10/site-packages (from torch) (1.12)\n",
      "Requirement already satisfied: networkx in /opt/conda/lib/python3.10/site-packages (from torch) (3.3)\n",
      "Requirement already satisfied: jinja2 in /opt/conda/lib/python3.10/site-packages (from torch) (3.1.4)\n",
      "Requirement already satisfied: MarkupSafe>=2.0 in /opt/conda/lib/python3.10/site-packages (from jinja2->torch) (2.1.5)\n",
      "Requirement already satisfied: mpmath>=0.19 in /opt/conda/lib/python3.10/site-packages (from sympy->torch) (1.3.0)\n",
      "Note: you may need to restart the kernel to use updated packages.\n",
      "Requirement already satisfied: umap-learn in /opt/conda/lib/python3.10/site-packages (0.5.6)\n",
      "Requirement already satisfied: numpy>=1.17 in /opt/conda/lib/python3.10/site-packages (from umap-learn) (1.26.4)\n",
      "Requirement already satisfied: scipy>=1.3.1 in /opt/conda/lib/python3.10/site-packages (from umap-learn) (1.11.4)\n",
      "Requirement already satisfied: scikit-learn>=0.22 in /opt/conda/lib/python3.10/site-packages (from umap-learn) (1.4.2)\n",
      "Requirement already satisfied: numba>=0.51.2 in /opt/conda/lib/python3.10/site-packages (from umap-learn) (0.59.1)\n",
      "Requirement already satisfied: pynndescent>=0.5 in /opt/conda/lib/python3.10/site-packages (from umap-learn) (0.5.13)\n",
      "Requirement already satisfied: tqdm in /opt/conda/lib/python3.10/site-packages (from umap-learn) (4.66.4)\n",
      "Requirement already satisfied: llvmlite<0.43,>=0.42.0dev0 in /opt/conda/lib/python3.10/site-packages (from numba>=0.51.2->umap-learn) (0.42.0)\n",
      "Requirement already satisfied: joblib>=0.11 in /opt/conda/lib/python3.10/site-packages (from pynndescent>=0.5->umap-learn) (1.4.2)\n",
      "Requirement already satisfied: threadpoolctl>=2.0.0 in /opt/conda/lib/python3.10/site-packages (from scikit-learn>=0.22->umap-learn) (3.5.0)\n",
      "Note: you may need to restart the kernel to use updated packages.\n",
      "Requirement already satisfied: tiktoken in /opt/conda/lib/python3.10/site-packages (0.7.0)\n",
      "Requirement already satisfied: regex>=2022.1.18 in /opt/conda/lib/python3.10/site-packages (from tiktoken) (2024.5.10)\n",
      "Requirement already satisfied: requests>=2.26.0 in /opt/conda/lib/python3.10/site-packages (from tiktoken) (2.31.0)\n",
      "Requirement already satisfied: charset-normalizer<4,>=2 in /opt/conda/lib/python3.10/site-packages (from requests>=2.26.0->tiktoken) (3.3.2)\n",
      "Requirement already satisfied: idna<4,>=2.5 in /opt/conda/lib/python3.10/site-packages (from requests>=2.26.0->tiktoken) (3.7)\n",
      "Requirement already satisfied: urllib3<3,>=1.21.1 in /opt/conda/lib/python3.10/site-packages (from requests>=2.26.0->tiktoken) (1.26.18)\n",
      "Requirement already satisfied: certifi>=2017.4.17 in /opt/conda/lib/python3.10/site-packages (from requests>=2.26.0->tiktoken) (2024.2.2)\n",
      "Note: you may need to restart the kernel to use updated packages.\n",
      "Requirement already satisfied: openai in /opt/conda/lib/python3.10/site-packages (1.34.0)\n",
      "Requirement already satisfied: anyio<5,>=3.5.0 in /opt/conda/lib/python3.10/site-packages (from openai) (4.3.0)\n",
      "Requirement already satisfied: distro<2,>=1.7.0 in /opt/conda/lib/python3.10/site-packages (from openai) (1.9.0)\n",
      "Requirement already satisfied: httpx<1,>=0.23.0 in /opt/conda/lib/python3.10/site-packages (from openai) (0.27.0)\n",
      "Requirement already satisfied: pydantic<3,>=1.9.0 in /opt/conda/lib/python3.10/site-packages (from openai) (2.7.0)\n",
      "Requirement already satisfied: sniffio in /opt/conda/lib/python3.10/site-packages (from openai) (1.3.1)\n",
      "Requirement already satisfied: tqdm>4 in /opt/conda/lib/python3.10/site-packages (from openai) (4.66.4)\n",
      "Requirement already satisfied: typing-extensions<5,>=4.7 in /opt/conda/lib/python3.10/site-packages (from openai) (4.11.0)\n",
      "Requirement already satisfied: idna>=2.8 in /opt/conda/lib/python3.10/site-packages (from anyio<5,>=3.5.0->openai) (3.7)\n",
      "Requirement already satisfied: exceptiongroup>=1.0.2 in /opt/conda/lib/python3.10/site-packages (from anyio<5,>=3.5.0->openai) (1.2.0)\n",
      "Requirement already satisfied: certifi in /opt/conda/lib/python3.10/site-packages (from httpx<1,>=0.23.0->openai) (2024.2.2)\n",
      "Requirement already satisfied: httpcore==1.* in /opt/conda/lib/python3.10/site-packages (from httpx<1,>=0.23.0->openai) (1.0.5)\n",
      "Requirement already satisfied: h11<0.15,>=0.13 in /opt/conda/lib/python3.10/site-packages (from httpcore==1.*->httpx<1,>=0.23.0->openai) (0.14.0)\n",
      "Requirement already satisfied: annotated-types>=0.4.0 in /opt/conda/lib/python3.10/site-packages (from pydantic<3,>=1.9.0->openai) (0.6.0)\n",
      "Collecting pydantic-core==2.18.1 (from pydantic<3,>=1.9.0->openai)\n",
      "  Using cached pydantic_core-2.18.1-cp310-cp310-manylinux_2_17_x86_64.manylinux2014_x86_64.whl.metadata (6.5 kB)\n",
      "Using cached pydantic_core-2.18.1-cp310-cp310-manylinux_2_17_x86_64.manylinux2014_x86_64.whl (2.1 MB)\n",
      "Installing collected packages: pydantic-core\n",
      "  Attempting uninstall: pydantic-core\n",
      "    Found existing installation: pydantic_core 2.18.4\n",
      "    Uninstalling pydantic_core-2.18.4:\n",
      "      Successfully uninstalled pydantic_core-2.18.4\n",
      "\u001b[31mERROR: pip's dependency resolver does not currently take into account all the packages that are installed. This behaviour is the source of the following dependency conflicts.\n",
      "sagemaker-jupyterlab-extension-common 0.1.15 requires pydantic==1.*, but you have pydantic 2.7.0 which is incompatible.\u001b[0m\u001b[31m\n",
      "\u001b[0mSuccessfully installed pydantic-core-2.18.1\n",
      "Note: you may need to restart the kernel to use updated packages.\n",
      "Requirement already satisfied: umap-pytorch in /opt/conda/lib/python3.10/site-packages (0.0.7)\n",
      "Requirement already satisfied: einops>=0.3 in /opt/conda/lib/python3.10/site-packages (from umap-pytorch) (0.8.0)\n",
      "Requirement already satisfied: pynndescent in /opt/conda/lib/python3.10/site-packages (from umap-pytorch) (0.5.13)\n",
      "Requirement already satisfied: llvmlite>=0.34.0 in /opt/conda/lib/python3.10/site-packages (from umap-pytorch) (0.42.0)\n",
      "Requirement already satisfied: torch>=1.6 in /opt/conda/lib/python3.10/site-packages (from umap-pytorch) (2.0.0.post304)\n",
      "Requirement already satisfied: scikit-learn in /opt/conda/lib/python3.10/site-packages (from umap-pytorch) (1.4.2)\n",
      "Requirement already satisfied: umap-learn in /opt/conda/lib/python3.10/site-packages (from umap-pytorch) (0.5.6)\n",
      "Requirement already satisfied: pytorch-lightning in /opt/conda/lib/python3.10/site-packages (from umap-pytorch) (2.0.9)\n",
      "Requirement already satisfied: dill in /opt/conda/lib/python3.10/site-packages (from umap-pytorch) (0.3.8)\n",
      "Requirement already satisfied: filelock in /opt/conda/lib/python3.10/site-packages (from torch>=1.6->umap-pytorch) (3.14.0)\n",
      "Requirement already satisfied: typing-extensions in /opt/conda/lib/python3.10/site-packages (from torch>=1.6->umap-pytorch) (4.11.0)\n",
      "Requirement already satisfied: sympy in /opt/conda/lib/python3.10/site-packages (from torch>=1.6->umap-pytorch) (1.12)\n",
      "Requirement already satisfied: networkx in /opt/conda/lib/python3.10/site-packages (from torch>=1.6->umap-pytorch) (3.3)\n",
      "Requirement already satisfied: jinja2 in /opt/conda/lib/python3.10/site-packages (from torch>=1.6->umap-pytorch) (3.1.4)\n",
      "Requirement already satisfied: scipy>=1.0 in /opt/conda/lib/python3.10/site-packages (from pynndescent->umap-pytorch) (1.11.4)\n",
      "Requirement already satisfied: numba>=0.51.2 in /opt/conda/lib/python3.10/site-packages (from pynndescent->umap-pytorch) (0.59.1)\n",
      "Requirement already satisfied: joblib>=0.11 in /opt/conda/lib/python3.10/site-packages (from pynndescent->umap-pytorch) (1.4.2)\n",
      "Requirement already satisfied: numpy>=1.19.5 in /opt/conda/lib/python3.10/site-packages (from scikit-learn->umap-pytorch) (1.26.4)\n",
      "Requirement already satisfied: threadpoolctl>=2.0.0 in /opt/conda/lib/python3.10/site-packages (from scikit-learn->umap-pytorch) (3.5.0)\n",
      "Requirement already satisfied: tqdm>=4.57.0 in /opt/conda/lib/python3.10/site-packages (from pytorch-lightning->umap-pytorch) (4.66.4)\n",
      "Requirement already satisfied: PyYAML>=5.4 in /opt/conda/lib/python3.10/site-packages (from pytorch-lightning->umap-pytorch) (6.0.1)\n",
      "Requirement already satisfied: fsspec>2021.06.0 in /opt/conda/lib/python3.10/site-packages (from fsspec[http]>2021.06.0->pytorch-lightning->umap-pytorch) (2023.6.0)\n",
      "Requirement already satisfied: torchmetrics>=0.7.0 in /opt/conda/lib/python3.10/site-packages (from pytorch-lightning->umap-pytorch) (1.0.3)\n",
      "Requirement already satisfied: packaging>=17.1 in /opt/conda/lib/python3.10/site-packages (from pytorch-lightning->umap-pytorch) (23.2)\n",
      "Requirement already satisfied: lightning-utilities>=0.7.0 in /opt/conda/lib/python3.10/site-packages (from pytorch-lightning->umap-pytorch) (0.11.2)\n",
      "Requirement already satisfied: requests in /opt/conda/lib/python3.10/site-packages (from fsspec[http]>2021.06.0->pytorch-lightning->umap-pytorch) (2.31.0)\n",
      "Requirement already satisfied: aiohttp!=4.0.0a0,!=4.0.0a1 in /opt/conda/lib/python3.10/site-packages (from fsspec[http]>2021.06.0->pytorch-lightning->umap-pytorch) (3.9.5)\n",
      "Requirement already satisfied: setuptools in /opt/conda/lib/python3.10/site-packages (from lightning-utilities>=0.7.0->pytorch-lightning->umap-pytorch) (69.5.1)\n",
      "Requirement already satisfied: MarkupSafe>=2.0 in /opt/conda/lib/python3.10/site-packages (from jinja2->torch>=1.6->umap-pytorch) (2.1.5)\n",
      "Requirement already satisfied: mpmath>=0.19 in /opt/conda/lib/python3.10/site-packages (from sympy->torch>=1.6->umap-pytorch) (1.3.0)\n",
      "Requirement already satisfied: aiosignal>=1.1.2 in /opt/conda/lib/python3.10/site-packages (from aiohttp!=4.0.0a0,!=4.0.0a1->fsspec[http]>2021.06.0->pytorch-lightning->umap-pytorch) (1.3.1)\n",
      "Requirement already satisfied: attrs>=17.3.0 in /opt/conda/lib/python3.10/site-packages (from aiohttp!=4.0.0a0,!=4.0.0a1->fsspec[http]>2021.06.0->pytorch-lightning->umap-pytorch) (23.2.0)\n",
      "Requirement already satisfied: frozenlist>=1.1.1 in /opt/conda/lib/python3.10/site-packages (from aiohttp!=4.0.0a0,!=4.0.0a1->fsspec[http]>2021.06.0->pytorch-lightning->umap-pytorch) (1.4.1)\n",
      "Requirement already satisfied: multidict<7.0,>=4.5 in /opt/conda/lib/python3.10/site-packages (from aiohttp!=4.0.0a0,!=4.0.0a1->fsspec[http]>2021.06.0->pytorch-lightning->umap-pytorch) (6.0.5)\n",
      "Requirement already satisfied: yarl<2.0,>=1.0 in /opt/conda/lib/python3.10/site-packages (from aiohttp!=4.0.0a0,!=4.0.0a1->fsspec[http]>2021.06.0->pytorch-lightning->umap-pytorch) (1.9.4)\n",
      "Requirement already satisfied: async-timeout<5.0,>=4.0 in /opt/conda/lib/python3.10/site-packages (from aiohttp!=4.0.0a0,!=4.0.0a1->fsspec[http]>2021.06.0->pytorch-lightning->umap-pytorch) (4.0.3)\n",
      "Requirement already satisfied: charset-normalizer<4,>=2 in /opt/conda/lib/python3.10/site-packages (from requests->fsspec[http]>2021.06.0->pytorch-lightning->umap-pytorch) (3.3.2)\n",
      "Requirement already satisfied: idna<4,>=2.5 in /opt/conda/lib/python3.10/site-packages (from requests->fsspec[http]>2021.06.0->pytorch-lightning->umap-pytorch) (3.7)\n",
      "Requirement already satisfied: urllib3<3,>=1.21.1 in /opt/conda/lib/python3.10/site-packages (from requests->fsspec[http]>2021.06.0->pytorch-lightning->umap-pytorch) (1.26.18)\n",
      "Requirement already satisfied: certifi>=2017.4.17 in /opt/conda/lib/python3.10/site-packages (from requests->fsspec[http]>2021.06.0->pytorch-lightning->umap-pytorch) (2024.2.2)\n",
      "Note: you may need to restart the kernel to use updated packages.\n",
      "Requirement already satisfied: pydantic in /opt/conda/lib/python3.10/site-packages (2.7.0)\n",
      "Collecting pydantic\n",
      "  Using cached pydantic-2.7.4-py3-none-any.whl.metadata (109 kB)\n",
      "Requirement already satisfied: annotated-types>=0.4.0 in /opt/conda/lib/python3.10/site-packages (from pydantic) (0.6.0)\n",
      "Collecting pydantic-core==2.18.4 (from pydantic)\n",
      "  Using cached pydantic_core-2.18.4-cp310-cp310-manylinux_2_17_x86_64.manylinux2014_x86_64.whl.metadata (6.5 kB)\n",
      "Requirement already satisfied: typing-extensions>=4.6.1 in /opt/conda/lib/python3.10/site-packages (from pydantic) (4.11.0)\n",
      "Using cached pydantic-2.7.4-py3-none-any.whl (409 kB)\n",
      "Using cached pydantic_core-2.18.4-cp310-cp310-manylinux_2_17_x86_64.manylinux2014_x86_64.whl (2.0 MB)\n",
      "Installing collected packages: pydantic-core, pydantic\n",
      "  Attempting uninstall: pydantic-core\n",
      "    Found existing installation: pydantic_core 2.18.1\n",
      "    Uninstalling pydantic_core-2.18.1:\n",
      "      Successfully uninstalled pydantic_core-2.18.1\n",
      "  Attempting uninstall: pydantic\n",
      "    Found existing installation: pydantic 2.7.0\n",
      "    Uninstalling pydantic-2.7.0:\n",
      "      Successfully uninstalled pydantic-2.7.0\n",
      "\u001b[31mERROR: pip's dependency resolver does not currently take into account all the packages that are installed. This behaviour is the source of the following dependency conflicts.\n",
      "gluonts 0.13.7 requires pydantic~=1.7, but you have pydantic 2.7.4 which is incompatible.\n",
      "sagemaker-jupyterlab-extension-common 0.1.15 requires pydantic==1.*, but you have pydantic 2.7.4 which is incompatible.\u001b[0m\u001b[31m\n",
      "\u001b[0mSuccessfully installed pydantic-2.7.4 pydantic-core-2.18.4\n",
      "Note: you may need to restart the kernel to use updated packages.\n",
      "Requirement already satisfied: tsne-torch in /opt/conda/lib/python3.10/site-packages (1.0.1)\n",
      "Requirement already satisfied: torch in /opt/conda/lib/python3.10/site-packages (from tsne-torch) (2.0.0.post304)\n",
      "Requirement already satisfied: numpy in /opt/conda/lib/python3.10/site-packages (from tsne-torch) (1.26.4)\n",
      "Requirement already satisfied: tqdm in /opt/conda/lib/python3.10/site-packages (from tsne-torch) (4.66.4)\n",
      "Requirement already satisfied: filelock in /opt/conda/lib/python3.10/site-packages (from torch->tsne-torch) (3.14.0)\n",
      "Requirement already satisfied: typing-extensions in /opt/conda/lib/python3.10/site-packages (from torch->tsne-torch) (4.11.0)\n",
      "Requirement already satisfied: sympy in /opt/conda/lib/python3.10/site-packages (from torch->tsne-torch) (1.12)\n",
      "Requirement already satisfied: networkx in /opt/conda/lib/python3.10/site-packages (from torch->tsne-torch) (3.3)\n",
      "Requirement already satisfied: jinja2 in /opt/conda/lib/python3.10/site-packages (from torch->tsne-torch) (3.1.4)\n",
      "Requirement already satisfied: MarkupSafe>=2.0 in /opt/conda/lib/python3.10/site-packages (from jinja2->torch->tsne-torch) (2.1.5)\n",
      "Requirement already satisfied: mpmath>=0.19 in /opt/conda/lib/python3.10/site-packages (from sympy->torch->tsne-torch) (1.3.0)\n",
      "Note: you may need to restart the kernel to use updated packages.\n"
     ]
    }
   ],
   "source": [
    "\n",
    "%pip install matplotlib\n",
    "%pip install torch\n",
    "%pip install umap-learn\n",
    "%pip install tiktoken\n",
    "%pip install openai\n",
    "%pip install umap-pytorch\n",
    "%pip install -U pydantic\n",
    "%pip install tsne-torch"
   ]
  },
  {
   "cell_type": "code",
   "execution_count": 2,
   "id": "270a2f4a-1781-46db-8413-a7c0726511f4",
   "metadata": {
    "tags": []
   },
   "outputs": [
    {
     "name": "stderr",
     "output_type": "stream",
     "text": [
      "2024-06-18 13:42:32.533490: I tensorflow/core/util/port.cc:113] oneDNN custom operations are on. You may see slightly different numerical results due to floating-point round-off errors from different computation orders. To turn them off, set the environment variable `TF_ENABLE_ONEDNN_OPTS=0`.\n",
      "2024-06-18 13:42:32.571117: I tensorflow/core/platform/cpu_feature_guard.cc:182] This TensorFlow binary is optimized to use available CPU instructions in performance-critical operations.\n",
      "To enable the following instructions: SSE4.1 SSE4.2 AVX AVX2 AVX512F AVX512_VNNI FMA, in other operations, rebuild TensorFlow with the appropriate compiler flags.\n"
     ]
    },
    {
     "name": "stdout",
     "output_type": "stream",
     "text": [
      "[PhysicalDevice(name='/physical_device:CPU:0', device_type='CPU')]\n"
     ]
    }
   ],
   "source": [
    "import tensorflow as tf\n",
    "\n",
    "print(tf.config.list_physical_devices())"
   ]
  },
  {
   "cell_type": "code",
   "execution_count": null,
   "id": "2d4e2a42-91a8-4055-80c3-f450ec8b2f8f",
   "metadata": {
    "tags": []
   },
   "outputs": [],
   "source": []
  },
  {
   "cell_type": "code",
   "execution_count": 3,
   "id": "db98a99a-85f3-4312-b038-5f64c254101f",
   "metadata": {},
   "outputs": [],
   "source": [
    "import warnings\n",
    "\n",
    "warnings.simplefilter(\"ignore\")\n",
    "\n",
    "import time\n",
    "\n",
    "import torch\n",
    "\n",
    "from umap_based_rag import UMAP_Based_RAG_Util\n",
    "\n",
    "from som_based_rag import SOM_Based_RAG_Util\n",
    "\n",
    "from wiki_datasource import WikiEventsDataSource\n",
    "\n",
    "from openai_vector_encoder import OpenAIEmbeddingsVectorEncoder\n",
    "\n",
    "from openai_qa_chatbot import OpenAIQuestionAnswerChatBot"
   ]
  },
  {
   "cell_type": "code",
   "execution_count": 4,
   "id": "d655453b-0e4f-4216-8987-7e9f5f72f8b9",
   "metadata": {},
   "outputs": [],
   "source": [
    "device = 'cuda' if torch.cuda.is_available() else 'cpu'"
   ]
  },
  {
   "cell_type": "code",
   "execution_count": 5,
   "id": "3bc95728-72f5-4c19-a9e5-091d402ea0c1",
   "metadata": {},
   "outputs": [],
   "source": [
    "openai_key = \"\"\n",
    "\n",
    "openai_vector_encoder_id = \"text-embedding-ada-002\"\n",
    "\n",
    "openai_encoded_vector_dimensions = 1536\n",
    "\n",
    "openai_tokenizer_name = \"cl100k_base\" \n",
    "\n",
    "openai_model_name = \"gpt-3.5-turbo-instruct\"\n",
    "\n",
    "vector_encoder = OpenAIEmbeddingsVectorEncoder( openai_encoded_vector_dimensions, openai_vector_encoder_id, openai_key )"
   ]
  },
  {
   "cell_type": "code",
   "execution_count": 6,
   "id": "df6c5da9-c735-4de4-9dcd-cc5acff04125",
   "metadata": {},
   "outputs": [],
   "source": [
    "event_years_to_fetch = [ 2022, 2023, 2024 ]\n",
    "data_source = WikiEventsDataSource( event_years_to_fetch  )"
   ]
  },
  {
   "cell_type": "code",
   "execution_count": 7,
   "id": "50a977b7-28d3-4cc0-8461-072aa7e3f123",
   "metadata": {},
   "outputs": [],
   "source": [
    "umap_driven_rag_util = UMAP_Based_RAG_Util( \n",
    "                                            vector_encoder = vector_encoder,\n",
    "                                            n_neighbors = 5,\n",
    "                                            min_dist = 0.1,\n",
    "                                            n_components = 2,\n",
    "                                            k_clusters = 100,\n",
    "                                            metric = 'cosine',\n",
    "                                            topk_bmu_for_indexing = 10,\n",
    "                                            device = device\n",
    "                                        )"
   ]
  },
  {
   "cell_type": "code",
   "execution_count": 8,
   "id": "3f3a2680-c46a-4790-9bf0-4e4f3785cbc6",
   "metadata": {},
   "outputs": [],
   "source": [
    "som_driven_rag_util = SOM_Based_RAG_Util( \n",
    "                                            vector_encoder = vector_encoder,\n",
    "                                            som_lattice_height = 20,\n",
    "                                            som_lattice_width = 30,\n",
    "                                            learning_rate = 0.3,\n",
    "                                            topk_bmu_for_indexing = 5,\n",
    "                                            device = device\n",
    "                                        )"
   ]
  },
  {
   "cell_type": "code",
   "execution_count": 9,
   "id": "4d466bc1-882b-46b6-9d0f-d5e480344fb9",
   "metadata": {},
   "outputs": [
    {
     "data": {
      "application/vnd.jupyter.widget-view+json": {
       "model_id": "b29e1420c58a485982291c7f7d8b6b8b",
       "version_major": 2,
       "version_minor": 0
      },
      "text/plain": [
       "Vectorized Data Batch:   0%|          | 0/5 [00:00<?, ?it/s]"
      ]
     },
     "metadata": {},
     "output_type": "display_data"
    }
   ],
   "source": [
    "umap_driven_rag_util.load_n_vectorize_data( data_source )"
   ]
  },
  {
   "cell_type": "code",
   "execution_count": 10,
   "id": "731316fd-6f0f-4b61-966f-6bf09c78c6ab",
   "metadata": {},
   "outputs": [
    {
     "name": "stdout",
     "output_type": "stream",
     "text": [
      "WARNING: Wiki events for the specified years already fetched. Ignoring the request...\n"
     ]
    },
    {
     "data": {
      "application/vnd.jupyter.widget-view+json": {
       "model_id": "f7e12e5341d341db965b1df9aa8e2592",
       "version_major": 2,
       "version_minor": 0
      },
      "text/plain": [
       "Vectorized Data Batch:   0%|          | 0/5 [00:00<?, ?it/s]"
      ]
     },
     "metadata": {},
     "output_type": "display_data"
    }
   ],
   "source": [
    "som_driven_rag_util.load_n_vectorize_data(data_source)"
   ]
  },
  {
   "cell_type": "code",
   "execution_count": 11,
   "id": "f03b9b4e-7213-42a4-9621-7dc421d9f3ad",
   "metadata": {},
   "outputs": [
    {
     "data": {
      "text/plain": [
       "torch.Size([499, 1536])"
      ]
     },
     "execution_count": 11,
     "metadata": {},
     "output_type": "execute_result"
    }
   ],
   "source": [
    "umap_driven_rag_util.vectors.shape\n",
    "som_driven_rag_util.vectors.shape"
   ]
  },
  {
   "cell_type": "code",
   "execution_count": 12,
   "id": "83ca31b5-c2d1-41d8-b797-f0cd557a0d1f",
   "metadata": {},
   "outputs": [
    {
     "data": {
      "application/vnd.jupyter.widget-view+json": {
       "model_id": "2fd4e6449d0d4dd79aa66a6e2f328a94",
       "version_major": 2,
       "version_minor": 0
      },
      "text/plain": [
       "SOM-Based Indexed Vectors:   0%|          | 0/499 [00:00<?, ?it/s]"
      ]
     },
     "metadata": {},
     "output_type": "display_data"
    },
    {
     "name": "stdout",
     "output_type": "stream",
     "text": [
      "7.62194244300008\n"
     ]
    },
    {
     "data": {
      "image/png": "[encoded data removed]",
      "text/plain": [
       "<Figure size 640x480 with 1 Axes>"
      ]
     },
     "metadata": {},
     "output_type": "display_data"
    }
   ],
   "source": [
    "umap_train_t1 = time.perf_counter()\n",
    "umap_driven_rag_util.train_n_index_data_vectors()\n",
    "umap_training_time = time.perf_counter() - umap_train_t1\n",
    "print(umap_training_time)"
   ]
  },
  {
   "cell_type": "code",
   "execution_count": 13,
   "id": "4c43f564-ce59-474c-ade6-ed4fdf9d0b79",
   "metadata": {
    "tags": []
   },
   "outputs": [
    {
     "data": {
      "application/vnd.jupyter.widget-view+json": {
       "model_id": "73c2d218203c4c419da6c102d6cd6777",
       "version_major": 2,
       "version_minor": 0
      },
      "text/plain": [
       "Kohonen's SOM Train Epochs:   0%|          | 0/100 [00:00<?, ?it/s]"
      ]
     },
     "metadata": {},
     "output_type": "display_data"
    },
    {
     "name": "stdout",
     "output_type": "stream",
     "text": [
      "data points dimensions torch.Size([499, 1536])  lattice dimensions torch.Size([600, 1536])\n"
     ]
    },
    {
     "data": {
      "application/vnd.jupyter.widget-view+json": {
       "model_id": "a4cdcab4f8554f1dbac6a41124c62fdf",
       "version_major": 2,
       "version_minor": 0
      },
      "text/plain": [
       "SOM-Based Indexed Vectors:   0%|          | 0/499 [00:00<?, ?it/s]"
      ]
     },
     "metadata": {},
     "output_type": "display_data"
    },
    {
     "name": "stdout",
     "output_type": "stream",
     "text": [
      "12.56500678700013\n"
     ]
    }
   ],
   "source": [
    "som_train_t1 = time.perf_counter()\n",
    "som_driven_rag_util.train_n_index_data_vectors()\n",
    "som_training_time = time.perf_counter() - som_train_t1\n",
    "print(som_training_time)"
   ]
  },
  {
   "cell_type": "code",
   "execution_count": 14,
   "id": "b2d985a5-f6db-497d-b809-0d0e10269cc8",
   "metadata": {},
   "outputs": [
    {
     "data": {
      "text/plain": [
       "[]"
      ]
     },
     "execution_count": 14,
     "metadata": {},
     "output_type": "execute_result"
    }
   ],
   "source": [
    "umap_driven_rag_util.find_semantically_similar_data( \"Who won the 2024 Sri Lankan Presidential Election?\", sim_threshold = 0.7 )"
   ]
  },
  {
   "cell_type": "code",
   "execution_count": 15,
   "id": "18b37fab-1512-42b9-8346-d18128607b87",
   "metadata": {},
   "outputs": [
    {
     "data": {
      "text/plain": [
       "[]"
      ]
     },
     "execution_count": 15,
     "metadata": {},
     "output_type": "execute_result"
    }
   ],
   "source": [
    "som_driven_rag_util.find_semantically_similar_data( \"Who won the 2024 Sri Lankan Presidential Election?\", sim_threshold = 0.7 )"
   ]
  },
  {
   "cell_type": "code",
   "execution_count": 16,
   "id": "9f8d25b4-8737-4a26-a3e7-3168db4090f0",
   "metadata": {},
   "outputs": [],
   "source": [
    "umap_openai_chatbot = OpenAIQuestionAnswerChatBot( \n",
    "                                                vector_db_util = umap_driven_rag_util,\n",
    "                                                openai_tokenizer_name = openai_tokenizer_name,\n",
    "                                                openai_model_name = openai_model_name,\n",
    "                                                openai_key = openai_key,\n",
    "                                                question_input_max_token_count = 100,\n",
    "                                                context_trim_percent = 0.1,\n",
    "                                                device = device\n",
    "                                            )"
   ]
  },
  {
   "cell_type": "code",
   "execution_count": 17,
   "id": "7b3e6d23-92aa-4989-90b6-097c1065773b",
   "metadata": {},
   "outputs": [],
   "source": [
    "som_openai_chatbot = OpenAIQuestionAnswerChatBot( \n",
    "                                                vector_db_util = som_driven_rag_util,\n",
    "                                                openai_tokenizer_name = openai_tokenizer_name,\n",
    "                                                openai_model_name = openai_model_name,\n",
    "                                                openai_key = openai_key,\n",
    "                                                question_input_max_token_count = 100,\n",
    "                                                context_trim_percent = 0.1,\n",
    "                                                device = device\n",
    "                                            )"
   ]
  },
  {
   "cell_type": "code",
   "execution_count": 18,
   "id": "f9872300-f18e-4ca6-b488-63ba76f170bd",
   "metadata": {},
   "outputs": [],
   "source": [
    "sample_questions = [    [\"Who won the 2024 Sri Lankan Presidential Election?\",\"Ranil Wickremesinghe\"],\n",
    "                        [\"Who won the 2022 soccer world cup?\", \"Argentina\"],\n",
    "                        [\"When did Sweden join NATO?\", \"2024\"],\n",
    "                        [\"Who joined NATO in 2023?\", \"Finland\"],\n",
    "                        [\"Who joined NATO in 2024?\", \"Sweden\"],\n",
    "                        [\"Which is the 31st member of NATO?\", \"Finland\"],\n",
    "                        [\"Which is the 32nd member of NATO?\", \"Sweden\"],\n",
    "                        [\"Who won the Cricket World Cup in 2023?\", \"Australia\"],\n",
    "                        [\"Who defeated India in Cricket World Cup final in 2023?\", \"Australia\"],\n",
    "                        [\"Name the former prime minister of Japan that was assassinated in 2022?\", \"Shinzo Abe\"],\n",
    "                        [\"When did Chandrayaan-3 land near the south pole of the Moon?\", \"July 14, 2023\"],\n",
    "                        [\"Where did Chandrayaan-3 land on the Moon?\", \"south pole\"],\n",
    "                        [\"Who acquired Twitter in 2022?\", \"Elon Musk\"],\n",
    "                        [\"Who owns Twitter?\", \"Elon Musk\"],\n",
    "                        [\"Who acquired Activision Blizzard in 2023?\", \"Microsoft\"],\n",
    "                        [\"What country was invaded by Russia in 2022?\", \"Ukraine\"],\n",
    "                        [\"What year did Russia invade Ukraine?\", \"2022\"],\n",
    "                   ]"
   ]
  },
  {
   "cell_type": "code",
   "execution_count": 19,
   "id": "fed35e14-c9d7-4c97-a5f3-4284f91c832a",
   "metadata": {},
   "outputs": [
    {
     "name": "stdout",
     "output_type": "stream",
     "text": [
      "\n",
      "Question: Who won the 2024 Sri Lankan Presidential Election?\n",
      "Answer: I'm not sure, as the election has not happened yet. The current Sri\n",
      "\n",
      "Question: Who won the 2022 soccer world cup?\n",
      "Answer: There will be no 2022 soccer world cup because it is hosted every\n",
      "\n",
      "Question: When did Sweden join NATO?\n",
      "Answer: Sweden has remained neutral since World War II, and has not joined any military alliances\n",
      "\n",
      "Question: Who joined NATO in 2023?\n",
      "Answer: There is no information available on who joined NATO in 2023 as it is\n",
      "\n",
      "Question: Who joined NATO in 2024?\n",
      "Answer: There is no definitive answer to this question as it is from the future and depends\n",
      "\n",
      "Question: Which is the 31st member of NATO?\n",
      "Answer: The 31st member of NATO is Albania.\n",
      "\n",
      "Question: Which is the 32nd member of NATO?\n",
      "Answer: The 32nd member of NATO is North Macedonia.\n",
      "\n",
      "Question: Who won the Cricket World Cup in 2023?\n",
      "Answer: It is currently impossible to determine who will win the Cricket World Cup in 202\n",
      "\n",
      "Question: Who defeated India in Cricket World Cup final in 2023?\n",
      "Answer: It was Pakistan who defeated India in the Cricket World Cup final in 2023\n",
      "\n",
      "Question: Name the former prime minister of Japan that was assassinated in 2022?\n",
      "Answer: This is a hypothetical question and cannot be answered accurately as it refers to a potential\n",
      "\n",
      "Question: When did Chandrayaan-3 land near the south pole of the Moon?\n",
      "Answer: The Chandrayaan-3 lander was planned to land near the lunar south\n",
      "\n",
      "Question: Where did Chandrayaan-3 land on the Moon?\n",
      "Answer: Chandrayaan-3 did not successfully land on the Moon. It was a\n",
      "\n",
      "Question: Who acquired Twitter in 2022?\n",
      "Answer: I could not find any information about Twitter being acquired in 2022. As\n",
      "\n",
      "Question: Who owns Twitter?\n",
      "Answer: Twitter is owned by the company Twitter, Inc., but its largest single shareholder\n",
      "\n",
      "Question: Who acquired Activision Blizzard in 2023?\n",
      "Answer: In 2023, Microsoft acquired Activision Blizzard.\n",
      "\n",
      "Question: What country was invaded by Russia in 2022?\n",
      "Answer: It is currently 2021, so it is impossible for Russia to have invaded\n",
      "\n",
      "Question: What year did Russia invade Ukraine?\n",
      "Answer: I will need more information about which time and indefinite place in Russia, Please provide\n"
     ]
    }
   ],
   "source": [
    "for sample_question in sample_questions:\n",
    "    print( f\"\\nQuestion: {sample_question[0]}\" )\n",
    "    answer = umap_openai_chatbot.find_answer_to_question_without_context( sample_question[0] )\n",
    "    print( f\"Answer: {answer}\" )"
   ]
  },
  {
   "cell_type": "code",
   "execution_count": 20,
   "id": "fe95045b-c572-4365-b3ce-48193603635c",
   "metadata": {},
   "outputs": [
    {
     "name": "stdout",
     "output_type": "stream",
     "text": [
      "\n",
      "Question: Who won the 2024 Sri Lankan Presidential Election?\n",
      "Answer: Ranil Wickremesinghe.\n",
      "\n",
      "Question: Who won the 2022 soccer world cup?\n",
      "Answer: Argentina.\n",
      "\n",
      "Question: When did Sweden join NATO?\n",
      "Answer: March 7, 2024\n",
      "\n",
      "Question: Who joined NATO in 2023?\n",
      "Answer: Finland joined NATO in 2023.\n",
      "\n",
      "Question: Who joined NATO in 2024?\n",
      "Answer: Sweden\n",
      "\n",
      "Question: Which is the 31st member of NATO?\n",
      "Answer: Finland\n",
      "\n",
      "Question: Which is the 32nd member of NATO?\n",
      "Answer: Sweden\n",
      "\n",
      "Question: Who won the Cricket World Cup in 2023?\n",
      "Answer: Australia.\n",
      "\n",
      "Question: Who defeated India in Cricket World Cup final in 2023?\n",
      "Answer: Australia\n",
      "\n",
      "Question: Name the former prime minister of Japan that was assassinated in 2022?\n",
      "Answer: Shinzo Abe\n",
      "\n",
      "Question: When did Chandrayaan-3 land near the south pole of the Moon?\n",
      "Answer: August 23, 2023.\n",
      "\n",
      "Question: Where did Chandrayaan-3 land on the Moon?\n",
      "Answer: Chandrayaan-3 landed near the south pole of the Moon.\n",
      "\n",
      "Question: Who acquired Twitter in 2022?\n",
      "Answer: Elon Musk.\n",
      "\n",
      "Question: Who owns Twitter?\n",
      "Answer: Elon Musk owns Twitter.\n",
      "\n",
      "Question: Who acquired Activision Blizzard in 2023?\n",
      "Answer: Microsoft\n",
      "\n",
      "Question: What country was invaded by Russia in 2022?\n",
      "Answer: Ukraine.\n",
      "\n",
      "Question: What year did Russia invade Ukraine?\n",
      "Answer: 2022\n",
      "Average search time per question 0.5667033706469524\n",
      "Accuracy: 0.9411764705882353\n"
     ]
    }
   ],
   "source": [
    "sim_threshold = 0.55\n",
    "total_time = 0\n",
    "count = 0\n",
    "for sample_question in sample_questions:\n",
    "    print( f\"\\nQuestion: {sample_question[0]}\" )\n",
    "    t1 = time.perf_counter()\n",
    "    answer = umap_openai_chatbot.find_answer_to_question( sample_question[0], sim_threshold = sim_threshold)\n",
    "    t2 = time.perf_counter()\n",
    "    if sample_question[1] in answer:\n",
    "        count += 1\n",
    "    print( f\"Answer: {answer}\" )\n",
    "    total_time += (t2-t1)\n",
    "print(f\"Average search time per question {total_time/len(sample_questions)}\")\n",
    "print(f\"Accuracy: {count/len(sample_questions)}\")"
   ]
  },
  {
   "cell_type": "code",
   "execution_count": 21,
   "id": "d40a1e4e-8820-459a-9bc5-a6adfab545a0",
   "metadata": {},
   "outputs": [
    {
     "name": "stdout",
     "output_type": "stream",
     "text": [
      "\n",
      "Question: Who won the 2024 Sri Lankan Presidential Election?\n",
      "Answer: I am unable to answer this question as no context is provided.\n",
      "\n",
      "Question: Who won the 2022 soccer world cup?\n",
      "Answer: Argentina\n",
      "\n",
      "Question: When did Sweden join NATO?\n",
      "Answer: March 7, 2024.\n",
      "\n",
      "Question: Who joined NATO in 2023?\n",
      "Answer: Finland joined NATO in 2023.\n",
      "\n",
      "Question: Who joined NATO in 2024?\n",
      "Answer: Sweden.\n",
      "\n",
      "Question: Which is the 31st member of NATO?\n",
      "Answer: Finland.\n",
      "\n",
      "Question: Which is the 32nd member of NATO?\n",
      "Answer: Sweden.\n",
      "\n",
      "Question: Who won the Cricket World Cup in 2023?\n",
      "Answer: Australia.\n",
      "\n",
      "Question: Who defeated India in Cricket World Cup final in 2023?\n",
      "Answer: Australia.\n",
      "\n",
      "Question: Name the former prime minister of Japan that was assassinated in 2022?\n",
      "Answer: Shinzo Abe\n",
      "\n",
      "Question: When did Chandrayaan-3 land near the south pole of the Moon?\n",
      "Answer: August 23, 2023\n",
      "\n",
      "Question: Where did Chandrayaan-3 land on the Moon?\n",
      "Answer: Near the south pole of the Moon.\n",
      "\n",
      "Question: Who acquired Twitter in 2022?\n",
      "Answer: Elon Musk\n",
      "\n",
      "Question: Who owns Twitter?\n",
      "Answer: Elon Musk.\n",
      "\n",
      "Question: Who acquired Activision Blizzard in 2023?\n",
      "Answer: Microsoft.\n",
      "\n",
      "Question: What country was invaded by Russia in 2022?\n",
      "Answer: Ukraine\n",
      "\n",
      "Question: What year did Russia invade Ukraine?\n",
      "Answer: 2022\n",
      "Average search time per question 0.48082591558822435\n",
      "Accuracy: 0.8823529411764706\n"
     ]
    }
   ],
   "source": [
    "total_time = 0\n",
    "count = 0\n",
    "for sample_question in sample_questions:\n",
    "    print( f\"\\nQuestion: {sample_question[0]}\" )\n",
    "    t1 = time.perf_counter()\n",
    "    answer = som_openai_chatbot.find_answer_to_question( sample_question[0], sim_threshold = sim_threshold)\n",
    "    t2 = time.perf_counter()\n",
    "    if sample_question[1] in answer:\n",
    "        count += 1\n",
    "    print( f\"Answer: {answer}\" )\n",
    "    total_time += (t2-t1)\n",
    "print(f\"Average search time per question {total_time/len(sample_questions)}\")\n",
    "print(f\"Accuracy: {count/len(sample_questions)}\")"
   ]
  },
  {
   "cell_type": "code",
   "execution_count": null,
   "id": "30da30e8-8231-4a9c-882d-d5265b65f95b",
   "metadata": {},
   "outputs": [],
   "source": []
  },
  {
   "cell_type": "code",
   "execution_count": null,
   "id": "ac7a8481-97d0-49b6-9f43-94812b8cba34",
   "metadata": {},
   "outputs": [],
   "source": []
  }
 ],
 "metadata": {
  "kernelspec": {
   "display_name": "Python 3 (ipykernel)",
   "language": "python",
   "name": "python3"
  },
  "language_info": {
   "codemirror_mode": {
    "name": "ipython",
    "version": 3
   },
   "file_extension": ".py",
   "mimetype": "text/x-python",
   "name": "python",
   "nbconvert_exporter": "python",
   "pygments_lexer": "ipython3",
   "version": "3.10.14"
  }
 },
 "nbformat": 4,
 "nbformat_minor": 5
}
