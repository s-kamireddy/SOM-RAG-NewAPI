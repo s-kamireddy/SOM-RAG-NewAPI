{
 "cells": [
  {
   "cell_type": "raw",
   "id": "731e517c-7bc7-4499-9fe8-00f1599f42f0",
   "metadata": {},
   "source": [
    "'''\n",
    "------------------------------------------------------------------------------\n",
    "   Copyright 2024 Murali Kashaboina\n",
    "\n",
    "   Licensed under the Apache License, Version 2.0 (the \"License\");\n",
    "   you may not use this file except in compliance with the License.\n",
    "   You may obtain a copy of the License at\n",
    "\n",
    "       http://www.apache.org/licenses/LICENSE-2.0\n",
    "\n",
    "   Unless required by applicable law or agreed to in writing, software\n",
    "   distributed under the License is distributed on an \"AS IS\" BASIS,\n",
    "   WITHOUT WARRANTIES OR CONDITIONS OF ANY KIND, either express or implied.\n",
    "   See the License for the specific language governing permissions and\n",
    "   limitations under the License.\n",
    "------------------------------------------------------------------------------\n",
    "'''"
   ]
  },
  {
   "cell_type": "code",
   "execution_count": 1,
   "id": "d62c641c-0ed8-43ea-9522-da9ac60d3fac",
   "metadata": {
    "tags": []
   },
   "outputs": [
    {
     "name": "stdout",
     "output_type": "stream",
     "text": [
      "Collecting ragas\n",
      "  Downloading ragas-0.1.14-py3-none-any.whl.metadata (5.3 kB)\n",
      "Requirement already satisfied: numpy in /opt/conda/lib/python3.10/site-packages (from ragas) (1.26.4)\n",
      "Requirement already satisfied: datasets in /opt/conda/lib/python3.10/site-packages (from ragas) (2.19.1)\n",
      "Collecting tiktoken (from ragas)\n",
      "  Using cached tiktoken-0.7.0-cp310-cp310-manylinux_2_17_x86_64.manylinux2014_x86_64.whl.metadata (6.6 kB)\n",
      "Requirement already satisfied: langchain in /opt/conda/lib/python3.10/site-packages (from ragas) (0.1.9)\n",
      "Requirement already satisfied: langchain-core in /opt/conda/lib/python3.10/site-packages (from ragas) (0.1.52)\n",
      "Requirement already satisfied: langchain-community in /opt/conda/lib/python3.10/site-packages (from ragas) (0.0.38)\n",
      "Collecting langchain-openai (from ragas)\n",
      "  Downloading langchain_openai-0.1.22-py3-none-any.whl.metadata (2.6 kB)\n",
      "Collecting openai>1 (from ragas)\n",
      "  Downloading openai-1.41.1-py3-none-any.whl.metadata (22 kB)\n",
      "Collecting pysbd>=0.3.4 (from ragas)\n",
      "  Using cached pysbd-0.3.4-py3-none-any.whl.metadata (6.1 kB)\n",
      "Requirement already satisfied: nest-asyncio in /opt/conda/lib/python3.10/site-packages (from ragas) (1.6.0)\n",
      "Collecting appdirs (from ragas)\n",
      "  Using cached appdirs-1.4.4-py2.py3-none-any.whl.metadata (9.0 kB)\n",
      "Requirement already satisfied: anyio<5,>=3.5.0 in /opt/conda/lib/python3.10/site-packages (from openai>1->ragas) (4.3.0)\n",
      "Requirement already satisfied: distro<2,>=1.7.0 in /opt/conda/lib/python3.10/site-packages (from openai>1->ragas) (1.9.0)\n",
      "Requirement already satisfied: httpx<1,>=0.23.0 in /opt/conda/lib/python3.10/site-packages (from openai>1->ragas) (0.27.0)\n",
      "Collecting jiter<1,>=0.4.0 (from openai>1->ragas)\n",
      "  Downloading jiter-0.5.0-cp310-cp310-manylinux_2_17_x86_64.manylinux2014_x86_64.whl.metadata (3.6 kB)\n",
      "Requirement already satisfied: pydantic<3,>=1.9.0 in /opt/conda/lib/python3.10/site-packages (from openai>1->ragas) (1.10.14)\n",
      "Requirement already satisfied: sniffio in /opt/conda/lib/python3.10/site-packages (from openai>1->ragas) (1.3.1)\n",
      "Requirement already satisfied: tqdm>4 in /opt/conda/lib/python3.10/site-packages (from openai>1->ragas) (4.66.4)\n",
      "Requirement already satisfied: typing-extensions<5,>=4.11 in /opt/conda/lib/python3.10/site-packages (from openai>1->ragas) (4.11.0)\n",
      "Requirement already satisfied: filelock in /opt/conda/lib/python3.10/site-packages (from datasets->ragas) (3.14.0)\n",
      "Requirement already satisfied: pyarrow>=12.0.0 in /opt/conda/lib/python3.10/site-packages (from datasets->ragas) (15.0.0)\n",
      "Requirement already satisfied: pyarrow-hotfix in /opt/conda/lib/python3.10/site-packages (from datasets->ragas) (0.6)\n",
      "Requirement already satisfied: dill<0.3.9,>=0.3.0 in /opt/conda/lib/python3.10/site-packages (from datasets->ragas) (0.3.8)\n",
      "Requirement already satisfied: pandas in /opt/conda/lib/python3.10/site-packages (from datasets->ragas) (2.1.4)\n",
      "Requirement already satisfied: requests>=2.19.0 in /opt/conda/lib/python3.10/site-packages (from datasets->ragas) (2.31.0)\n",
      "Requirement already satisfied: xxhash in /opt/conda/lib/python3.10/site-packages (from datasets->ragas) (3.4.1)\n",
      "Requirement already satisfied: multiprocess in /opt/conda/lib/python3.10/site-packages (from datasets->ragas) (0.70.16)\n",
      "Requirement already satisfied: fsspec<=2024.3.1,>=2023.1.0 in /opt/conda/lib/python3.10/site-packages (from fsspec[http]<=2024.3.1,>=2023.1.0->datasets->ragas) (2023.6.0)\n",
      "Requirement already satisfied: aiohttp in /opt/conda/lib/python3.10/site-packages (from datasets->ragas) (3.9.5)\n",
      "Requirement already satisfied: huggingface-hub>=0.21.2 in /opt/conda/lib/python3.10/site-packages (from datasets->ragas) (0.23.0)\n",
      "Requirement already satisfied: packaging in /opt/conda/lib/python3.10/site-packages (from datasets->ragas) (23.2)\n",
      "Requirement already satisfied: pyyaml>=5.1 in /opt/conda/lib/python3.10/site-packages (from datasets->ragas) (6.0.1)\n",
      "Requirement already satisfied: SQLAlchemy<3,>=1.4 in /opt/conda/lib/python3.10/site-packages (from langchain->ragas) (1.4.49)\n",
      "Requirement already satisfied: async-timeout<5.0.0,>=4.0.0 in /opt/conda/lib/python3.10/site-packages (from langchain->ragas) (4.0.3)\n",
      "Requirement already satisfied: dataclasses-json<0.7,>=0.5.7 in /opt/conda/lib/python3.10/site-packages (from langchain->ragas) (0.6.6)\n",
      "Requirement already satisfied: jsonpatch<2.0,>=1.33 in /opt/conda/lib/python3.10/site-packages (from langchain->ragas) (1.33)\n",
      "Requirement already satisfied: langsmith<0.2.0,>=0.1.0 in /opt/conda/lib/python3.10/site-packages (from langchain->ragas) (0.1.57)\n",
      "Requirement already satisfied: tenacity<9.0.0,>=8.1.0 in /opt/conda/lib/python3.10/site-packages (from langchain->ragas) (8.3.0)\n",
      "INFO: pip is looking at multiple versions of langchain-openai to determine which version is compatible with other requirements. This could take a while.\n",
      "Collecting langchain-openai (from ragas)\n",
      "  Downloading langchain_openai-0.1.20-py3-none-any.whl.metadata (2.6 kB)\n",
      "  Downloading langchain_openai-0.1.19-py3-none-any.whl.metadata (2.6 kB)\n",
      "  Using cached langchain_openai-0.1.17-py3-none-any.whl.metadata (2.5 kB)\n",
      "  Using cached langchain_openai-0.1.16-py3-none-any.whl.metadata (2.5 kB)\n",
      "  Using cached langchain_openai-0.1.15-py3-none-any.whl.metadata (2.5 kB)\n",
      "  Using cached langchain_openai-0.1.14-py3-none-any.whl.metadata (2.5 kB)\n",
      "  Using cached langchain_openai-0.1.13-py3-none-any.whl.metadata (2.5 kB)\n",
      "INFO: pip is still looking at multiple versions of langchain-openai to determine which version is compatible with other requirements. This could take a while.\n",
      "  Using cached langchain_openai-0.1.12-py3-none-any.whl.metadata (2.5 kB)\n",
      "  Using cached langchain_openai-0.1.11-py3-none-any.whl.metadata (2.5 kB)\n",
      "  Using cached langchain_openai-0.1.10-py3-none-any.whl.metadata (2.5 kB)\n",
      "  Using cached langchain_openai-0.1.9-py3-none-any.whl.metadata (2.5 kB)\n",
      "  Using cached langchain_openai-0.1.8-py3-none-any.whl.metadata (2.5 kB)\n",
      "INFO: This is taking longer than usual. You might need to provide the dependency resolver with stricter constraints to reduce runtime. See https://pip.pypa.io/warnings/backtracking for guidance. If you want to abort this run, press Ctrl + C.\n",
      "  Using cached langchain_openai-0.1.7-py3-none-any.whl.metadata (2.5 kB)\n",
      "Requirement already satisfied: regex>=2022.1.18 in /opt/conda/lib/python3.10/site-packages (from tiktoken->ragas) (2024.5.10)\n",
      "Requirement already satisfied: aiosignal>=1.1.2 in /opt/conda/lib/python3.10/site-packages (from aiohttp->datasets->ragas) (1.3.1)\n",
      "Requirement already satisfied: attrs>=17.3.0 in /opt/conda/lib/python3.10/site-packages (from aiohttp->datasets->ragas) (23.2.0)\n",
      "Requirement already satisfied: frozenlist>=1.1.1 in /opt/conda/lib/python3.10/site-packages (from aiohttp->datasets->ragas) (1.4.1)\n",
      "Requirement already satisfied: multidict<7.0,>=4.5 in /opt/conda/lib/python3.10/site-packages (from aiohttp->datasets->ragas) (6.0.5)\n",
      "Requirement already satisfied: yarl<2.0,>=1.0 in /opt/conda/lib/python3.10/site-packages (from aiohttp->datasets->ragas) (1.9.4)\n",
      "Requirement already satisfied: idna>=2.8 in /opt/conda/lib/python3.10/site-packages (from anyio<5,>=3.5.0->openai>1->ragas) (3.7)\n",
      "Requirement already satisfied: exceptiongroup>=1.0.2 in /opt/conda/lib/python3.10/site-packages (from anyio<5,>=3.5.0->openai>1->ragas) (1.2.0)\n",
      "Requirement already satisfied: marshmallow<4.0.0,>=3.18.0 in /opt/conda/lib/python3.10/site-packages (from dataclasses-json<0.7,>=0.5.7->langchain->ragas) (3.21.2)\n",
      "Requirement already satisfied: typing-inspect<1,>=0.4.0 in /opt/conda/lib/python3.10/site-packages (from dataclasses-json<0.7,>=0.5.7->langchain->ragas) (0.9.0)\n",
      "Requirement already satisfied: certifi in /opt/conda/lib/python3.10/site-packages (from httpx<1,>=0.23.0->openai>1->ragas) (2024.2.2)\n",
      "Requirement already satisfied: httpcore==1.* in /opt/conda/lib/python3.10/site-packages (from httpx<1,>=0.23.0->openai>1->ragas) (1.0.5)\n",
      "Requirement already satisfied: h11<0.15,>=0.13 in /opt/conda/lib/python3.10/site-packages (from httpcore==1.*->httpx<1,>=0.23.0->openai>1->ragas) (0.14.0)\n",
      "Requirement already satisfied: jsonpointer>=1.9 in /opt/conda/lib/python3.10/site-packages (from jsonpatch<2.0,>=1.33->langchain->ragas) (2.4)\n",
      "Requirement already satisfied: orjson<4.0.0,>=3.9.14 in /opt/conda/lib/python3.10/site-packages (from langsmith<0.2.0,>=0.1.0->langchain->ragas) (3.10.3)\n",
      "Requirement already satisfied: charset-normalizer<4,>=2 in /opt/conda/lib/python3.10/site-packages (from requests>=2.19.0->datasets->ragas) (3.3.2)\n",
      "Requirement already satisfied: urllib3<3,>=1.21.1 in /opt/conda/lib/python3.10/site-packages (from requests>=2.19.0->datasets->ragas) (1.26.18)\n",
      "Requirement already satisfied: greenlet!=0.4.17 in /opt/conda/lib/python3.10/site-packages (from SQLAlchemy<3,>=1.4->langchain->ragas) (3.0.3)\n",
      "Requirement already satisfied: python-dateutil>=2.8.2 in /opt/conda/lib/python3.10/site-packages (from pandas->datasets->ragas) (2.9.0)\n",
      "Requirement already satisfied: pytz>=2020.1 in /opt/conda/lib/python3.10/site-packages (from pandas->datasets->ragas) (2023.3)\n",
      "Requirement already satisfied: tzdata>=2022.1 in /opt/conda/lib/python3.10/site-packages (from pandas->datasets->ragas) (2024.1)\n",
      "Requirement already satisfied: six>=1.5 in /opt/conda/lib/python3.10/site-packages (from python-dateutil>=2.8.2->pandas->datasets->ragas) (1.16.0)\n",
      "Requirement already satisfied: mypy-extensions>=0.3.0 in /opt/conda/lib/python3.10/site-packages (from typing-inspect<1,>=0.4.0->dataclasses-json<0.7,>=0.5.7->langchain->ragas) (1.0.0)\n",
      "Downloading ragas-0.1.14-py3-none-any.whl (163 kB)\n",
      "\u001b[2K   \u001b[90m━━━━━━━━━━━━━━━━━━━━━━━━━━━━━━━━━━━━━━━━\u001b[0m \u001b[32m163.9/163.9 kB\u001b[0m \u001b[31m21.5 MB/s\u001b[0m eta \u001b[36m0:00:00\u001b[0m\n",
      "\u001b[?25hDownloading openai-1.41.1-py3-none-any.whl (362 kB)\n",
      "\u001b[2K   \u001b[90m━━━━━━━━━━━━━━━━━━━━━━━━━━━━━━━━━━━━━━━━\u001b[0m \u001b[32m362.5/362.5 kB\u001b[0m \u001b[31m60.3 MB/s\u001b[0m eta \u001b[36m0:00:00\u001b[0m\n",
      "\u001b[?25hUsing cached pysbd-0.3.4-py3-none-any.whl (71 kB)\n",
      "Using cached appdirs-1.4.4-py2.py3-none-any.whl (9.6 kB)\n",
      "Using cached langchain_openai-0.1.7-py3-none-any.whl (34 kB)\n",
      "Using cached tiktoken-0.7.0-cp310-cp310-manylinux_2_17_x86_64.manylinux2014_x86_64.whl (1.1 MB)\n",
      "Downloading jiter-0.5.0-cp310-cp310-manylinux_2_17_x86_64.manylinux2014_x86_64.whl (318 kB)\n",
      "\u001b[2K   \u001b[90m━━━━━━━━━━━━━━━━━━━━━━━━━━━━━━━━━━━━━━━━\u001b[0m \u001b[32m318.9/318.9 kB\u001b[0m \u001b[31m47.9 MB/s\u001b[0m eta \u001b[36m0:00:00\u001b[0m\n",
      "\u001b[?25hInstalling collected packages: appdirs, pysbd, jiter, tiktoken, openai, langchain-openai, ragas\n",
      "Successfully installed appdirs-1.4.4 jiter-0.5.0 langchain-openai-0.1.7 openai-1.41.1 pysbd-0.3.4 ragas-0.1.14 tiktoken-0.7.0\n",
      "Note: you may need to restart the kernel to use updated packages.\n",
      "Requirement already satisfied: matplotlib in /opt/conda/lib/python3.10/site-packages (3.8.4)\n",
      "Requirement already satisfied: contourpy>=1.0.1 in /opt/conda/lib/python3.10/site-packages (from matplotlib) (1.2.1)\n",
      "Requirement already satisfied: cycler>=0.10 in /opt/conda/lib/python3.10/site-packages (from matplotlib) (0.12.1)\n",
      "Requirement already satisfied: fonttools>=4.22.0 in /opt/conda/lib/python3.10/site-packages (from matplotlib) (4.51.0)\n",
      "Requirement already satisfied: kiwisolver>=1.3.1 in /opt/conda/lib/python3.10/site-packages (from matplotlib) (1.4.5)\n",
      "Requirement already satisfied: numpy>=1.21 in /opt/conda/lib/python3.10/site-packages (from matplotlib) (1.26.4)\n",
      "Requirement already satisfied: packaging>=20.0 in /opt/conda/lib/python3.10/site-packages (from matplotlib) (23.2)\n",
      "Requirement already satisfied: pillow>=8 in /opt/conda/lib/python3.10/site-packages (from matplotlib) (10.3.0)\n",
      "Requirement already satisfied: pyparsing>=2.3.1 in /opt/conda/lib/python3.10/site-packages (from matplotlib) (3.1.2)\n",
      "Requirement already satisfied: python-dateutil>=2.7 in /opt/conda/lib/python3.10/site-packages (from matplotlib) (2.9.0)\n",
      "Requirement already satisfied: six>=1.5 in /opt/conda/lib/python3.10/site-packages (from python-dateutil>=2.7->matplotlib) (1.16.0)\n",
      "Note: you may need to restart the kernel to use updated packages.\n",
      "Requirement already satisfied: torch in /opt/conda/lib/python3.10/site-packages (2.0.0.post304)\n",
      "Requirement already satisfied: filelock in /opt/conda/lib/python3.10/site-packages (from torch) (3.14.0)\n",
      "Requirement already satisfied: typing-extensions in /opt/conda/lib/python3.10/site-packages (from torch) (4.11.0)\n",
      "Requirement already satisfied: sympy in /opt/conda/lib/python3.10/site-packages (from torch) (1.12)\n",
      "Requirement already satisfied: networkx in /opt/conda/lib/python3.10/site-packages (from torch) (3.3)\n",
      "Requirement already satisfied: jinja2 in /opt/conda/lib/python3.10/site-packages (from torch) (3.1.4)\n",
      "Requirement already satisfied: MarkupSafe>=2.0 in /opt/conda/lib/python3.10/site-packages (from jinja2->torch) (2.1.5)\n",
      "Requirement already satisfied: mpmath>=0.19 in /opt/conda/lib/python3.10/site-packages (from sympy->torch) (1.3.0)\n",
      "Note: you may need to restart the kernel to use updated packages.\n",
      "Collecting umap-learn\n",
      "  Using cached umap_learn-0.5.6-py3-none-any.whl.metadata (21 kB)\n",
      "Requirement already satisfied: numpy>=1.17 in /opt/conda/lib/python3.10/site-packages (from umap-learn) (1.26.4)\n",
      "Requirement already satisfied: scipy>=1.3.1 in /opt/conda/lib/python3.10/site-packages (from umap-learn) (1.11.4)\n",
      "Requirement already satisfied: scikit-learn>=0.22 in /opt/conda/lib/python3.10/site-packages (from umap-learn) (1.4.2)\n",
      "Requirement already satisfied: numba>=0.51.2 in /opt/conda/lib/python3.10/site-packages (from umap-learn) (0.59.1)\n",
      "Collecting pynndescent>=0.5 (from umap-learn)\n",
      "  Using cached pynndescent-0.5.13-py3-none-any.whl.metadata (6.8 kB)\n",
      "Requirement already satisfied: tqdm in /opt/conda/lib/python3.10/site-packages (from umap-learn) (4.66.4)\n",
      "Requirement already satisfied: llvmlite<0.43,>=0.42.0dev0 in /opt/conda/lib/python3.10/site-packages (from numba>=0.51.2->umap-learn) (0.42.0)\n",
      "Requirement already satisfied: joblib>=0.11 in /opt/conda/lib/python3.10/site-packages (from pynndescent>=0.5->umap-learn) (1.4.2)\n",
      "Requirement already satisfied: threadpoolctl>=2.0.0 in /opt/conda/lib/python3.10/site-packages (from scikit-learn>=0.22->umap-learn) (3.5.0)\n",
      "Using cached umap_learn-0.5.6-py3-none-any.whl (85 kB)\n",
      "Using cached pynndescent-0.5.13-py3-none-any.whl (56 kB)\n",
      "Installing collected packages: pynndescent, umap-learn\n",
      "Successfully installed pynndescent-0.5.13 umap-learn-0.5.6\n",
      "Note: you may need to restart the kernel to use updated packages.\n",
      "Requirement already satisfied: tiktoken in /opt/conda/lib/python3.10/site-packages (0.7.0)\n",
      "Requirement already satisfied: regex>=2022.1.18 in /opt/conda/lib/python3.10/site-packages (from tiktoken) (2024.5.10)\n",
      "Requirement already satisfied: requests>=2.26.0 in /opt/conda/lib/python3.10/site-packages (from tiktoken) (2.31.0)\n",
      "Requirement already satisfied: charset-normalizer<4,>=2 in /opt/conda/lib/python3.10/site-packages (from requests>=2.26.0->tiktoken) (3.3.2)\n",
      "Requirement already satisfied: idna<4,>=2.5 in /opt/conda/lib/python3.10/site-packages (from requests>=2.26.0->tiktoken) (3.7)\n",
      "Requirement already satisfied: urllib3<3,>=1.21.1 in /opt/conda/lib/python3.10/site-packages (from requests>=2.26.0->tiktoken) (1.26.18)\n",
      "Requirement already satisfied: certifi>=2017.4.17 in /opt/conda/lib/python3.10/site-packages (from requests>=2.26.0->tiktoken) (2024.2.2)\n",
      "Note: you may need to restart the kernel to use updated packages.\n",
      "Requirement already satisfied: openai in /opt/conda/lib/python3.10/site-packages (1.41.1)\n",
      "Requirement already satisfied: anyio<5,>=3.5.0 in /opt/conda/lib/python3.10/site-packages (from openai) (4.3.0)\n",
      "Requirement already satisfied: distro<2,>=1.7.0 in /opt/conda/lib/python3.10/site-packages (from openai) (1.9.0)\n",
      "Requirement already satisfied: httpx<1,>=0.23.0 in /opt/conda/lib/python3.10/site-packages (from openai) (0.27.0)\n",
      "Requirement already satisfied: jiter<1,>=0.4.0 in /opt/conda/lib/python3.10/site-packages (from openai) (0.5.0)\n",
      "Requirement already satisfied: pydantic<3,>=1.9.0 in /opt/conda/lib/python3.10/site-packages (from openai) (1.10.14)\n",
      "Requirement already satisfied: sniffio in /opt/conda/lib/python3.10/site-packages (from openai) (1.3.1)\n",
      "Requirement already satisfied: tqdm>4 in /opt/conda/lib/python3.10/site-packages (from openai) (4.66.4)\n",
      "Requirement already satisfied: typing-extensions<5,>=4.11 in /opt/conda/lib/python3.10/site-packages (from openai) (4.11.0)\n",
      "Requirement already satisfied: idna>=2.8 in /opt/conda/lib/python3.10/site-packages (from anyio<5,>=3.5.0->openai) (3.7)\n",
      "Requirement already satisfied: exceptiongroup>=1.0.2 in /opt/conda/lib/python3.10/site-packages (from anyio<5,>=3.5.0->openai) (1.2.0)\n",
      "Requirement already satisfied: certifi in /opt/conda/lib/python3.10/site-packages (from httpx<1,>=0.23.0->openai) (2024.2.2)\n",
      "Requirement already satisfied: httpcore==1.* in /opt/conda/lib/python3.10/site-packages (from httpx<1,>=0.23.0->openai) (1.0.5)\n",
      "Requirement already satisfied: h11<0.15,>=0.13 in /opt/conda/lib/python3.10/site-packages (from httpcore==1.*->httpx<1,>=0.23.0->openai) (0.14.0)\n",
      "Note: you may need to restart the kernel to use updated packages.\n",
      "Collecting umap-pytorch\n",
      "  Using cached umap_pytorch-0.0.7-py3-none-any.whl\n",
      "Collecting einops>=0.3 (from umap-pytorch)\n",
      "  Using cached einops-0.8.0-py3-none-any.whl.metadata (12 kB)\n",
      "Requirement already satisfied: pynndescent in /opt/conda/lib/python3.10/site-packages (from umap-pytorch) (0.5.13)\n",
      "Requirement already satisfied: llvmlite>=0.34.0 in /opt/conda/lib/python3.10/site-packages (from umap-pytorch) (0.42.0)\n",
      "Requirement already satisfied: torch>=1.6 in /opt/conda/lib/python3.10/site-packages (from umap-pytorch) (2.0.0.post304)\n",
      "Requirement already satisfied: scikit-learn in /opt/conda/lib/python3.10/site-packages (from umap-pytorch) (1.4.2)\n",
      "Requirement already satisfied: umap-learn in /opt/conda/lib/python3.10/site-packages (from umap-pytorch) (0.5.6)\n",
      "Requirement already satisfied: pytorch-lightning in /opt/conda/lib/python3.10/site-packages (from umap-pytorch) (2.0.9)\n",
      "Requirement already satisfied: dill in /opt/conda/lib/python3.10/site-packages (from umap-pytorch) (0.3.8)\n",
      "Requirement already satisfied: filelock in /opt/conda/lib/python3.10/site-packages (from torch>=1.6->umap-pytorch) (3.14.0)\n",
      "Requirement already satisfied: typing-extensions in /opt/conda/lib/python3.10/site-packages (from torch>=1.6->umap-pytorch) (4.11.0)\n",
      "Requirement already satisfied: sympy in /opt/conda/lib/python3.10/site-packages (from torch>=1.6->umap-pytorch) (1.12)\n",
      "Requirement already satisfied: networkx in /opt/conda/lib/python3.10/site-packages (from torch>=1.6->umap-pytorch) (3.3)\n",
      "Requirement already satisfied: jinja2 in /opt/conda/lib/python3.10/site-packages (from torch>=1.6->umap-pytorch) (3.1.4)\n",
      "Requirement already satisfied: scipy>=1.0 in /opt/conda/lib/python3.10/site-packages (from pynndescent->umap-pytorch) (1.11.4)\n",
      "Requirement already satisfied: numba>=0.51.2 in /opt/conda/lib/python3.10/site-packages (from pynndescent->umap-pytorch) (0.59.1)\n",
      "Requirement already satisfied: joblib>=0.11 in /opt/conda/lib/python3.10/site-packages (from pynndescent->umap-pytorch) (1.4.2)\n",
      "Requirement already satisfied: numpy>=1.19.5 in /opt/conda/lib/python3.10/site-packages (from scikit-learn->umap-pytorch) (1.26.4)\n",
      "Requirement already satisfied: threadpoolctl>=2.0.0 in /opt/conda/lib/python3.10/site-packages (from scikit-learn->umap-pytorch) (3.5.0)\n",
      "Requirement already satisfied: tqdm>=4.57.0 in /opt/conda/lib/python3.10/site-packages (from pytorch-lightning->umap-pytorch) (4.66.4)\n",
      "Requirement already satisfied: PyYAML>=5.4 in /opt/conda/lib/python3.10/site-packages (from pytorch-lightning->umap-pytorch) (6.0.1)\n",
      "Requirement already satisfied: fsspec>2021.06.0 in /opt/conda/lib/python3.10/site-packages (from fsspec[http]>2021.06.0->pytorch-lightning->umap-pytorch) (2023.6.0)\n",
      "Requirement already satisfied: torchmetrics>=0.7.0 in /opt/conda/lib/python3.10/site-packages (from pytorch-lightning->umap-pytorch) (1.0.3)\n",
      "Requirement already satisfied: packaging>=17.1 in /opt/conda/lib/python3.10/site-packages (from pytorch-lightning->umap-pytorch) (23.2)\n",
      "Requirement already satisfied: lightning-utilities>=0.7.0 in /opt/conda/lib/python3.10/site-packages (from pytorch-lightning->umap-pytorch) (0.11.2)\n",
      "Requirement already satisfied: requests in /opt/conda/lib/python3.10/site-packages (from fsspec[http]>2021.06.0->pytorch-lightning->umap-pytorch) (2.31.0)\n",
      "Requirement already satisfied: aiohttp!=4.0.0a0,!=4.0.0a1 in /opt/conda/lib/python3.10/site-packages (from fsspec[http]>2021.06.0->pytorch-lightning->umap-pytorch) (3.9.5)\n",
      "Requirement already satisfied: setuptools in /opt/conda/lib/python3.10/site-packages (from lightning-utilities>=0.7.0->pytorch-lightning->umap-pytorch) (69.5.1)\n",
      "Requirement already satisfied: MarkupSafe>=2.0 in /opt/conda/lib/python3.10/site-packages (from jinja2->torch>=1.6->umap-pytorch) (2.1.5)\n",
      "Requirement already satisfied: mpmath>=0.19 in /opt/conda/lib/python3.10/site-packages (from sympy->torch>=1.6->umap-pytorch) (1.3.0)\n",
      "Requirement already satisfied: aiosignal>=1.1.2 in /opt/conda/lib/python3.10/site-packages (from aiohttp!=4.0.0a0,!=4.0.0a1->fsspec[http]>2021.06.0->pytorch-lightning->umap-pytorch) (1.3.1)\n",
      "Requirement already satisfied: attrs>=17.3.0 in /opt/conda/lib/python3.10/site-packages (from aiohttp!=4.0.0a0,!=4.0.0a1->fsspec[http]>2021.06.0->pytorch-lightning->umap-pytorch) (23.2.0)\n",
      "Requirement already satisfied: frozenlist>=1.1.1 in /opt/conda/lib/python3.10/site-packages (from aiohttp!=4.0.0a0,!=4.0.0a1->fsspec[http]>2021.06.0->pytorch-lightning->umap-pytorch) (1.4.1)\n",
      "Requirement already satisfied: multidict<7.0,>=4.5 in /opt/conda/lib/python3.10/site-packages (from aiohttp!=4.0.0a0,!=4.0.0a1->fsspec[http]>2021.06.0->pytorch-lightning->umap-pytorch) (6.0.5)\n",
      "Requirement already satisfied: yarl<2.0,>=1.0 in /opt/conda/lib/python3.10/site-packages (from aiohttp!=4.0.0a0,!=4.0.0a1->fsspec[http]>2021.06.0->pytorch-lightning->umap-pytorch) (1.9.4)\n",
      "Requirement already satisfied: async-timeout<5.0,>=4.0 in /opt/conda/lib/python3.10/site-packages (from aiohttp!=4.0.0a0,!=4.0.0a1->fsspec[http]>2021.06.0->pytorch-lightning->umap-pytorch) (4.0.3)\n",
      "Requirement already satisfied: charset-normalizer<4,>=2 in /opt/conda/lib/python3.10/site-packages (from requests->fsspec[http]>2021.06.0->pytorch-lightning->umap-pytorch) (3.3.2)\n",
      "Requirement already satisfied: idna<4,>=2.5 in /opt/conda/lib/python3.10/site-packages (from requests->fsspec[http]>2021.06.0->pytorch-lightning->umap-pytorch) (3.7)\n",
      "Requirement already satisfied: urllib3<3,>=1.21.1 in /opt/conda/lib/python3.10/site-packages (from requests->fsspec[http]>2021.06.0->pytorch-lightning->umap-pytorch) (1.26.18)\n",
      "Requirement already satisfied: certifi>=2017.4.17 in /opt/conda/lib/python3.10/site-packages (from requests->fsspec[http]>2021.06.0->pytorch-lightning->umap-pytorch) (2024.2.2)\n",
      "Using cached einops-0.8.0-py3-none-any.whl (43 kB)\n",
      "Installing collected packages: einops, umap-pytorch\n",
      "Successfully installed einops-0.8.0 umap-pytorch-0.0.7\n",
      "Note: you may need to restart the kernel to use updated packages.\n",
      "Requirement already satisfied: pydantic in /opt/conda/lib/python3.10/site-packages (1.10.14)\n",
      "Collecting pydantic\n",
      "  Using cached pydantic-2.8.2-py3-none-any.whl.metadata (125 kB)\n",
      "Requirement already satisfied: annotated-types>=0.4.0 in /opt/conda/lib/python3.10/site-packages (from pydantic) (0.6.0)\n",
      "Collecting pydantic-core==2.20.1 (from pydantic)\n",
      "  Using cached pydantic_core-2.20.1-cp310-cp310-manylinux_2_17_x86_64.manylinux2014_x86_64.whl.metadata (6.6 kB)\n",
      "Requirement already satisfied: typing-extensions>=4.6.1 in /opt/conda/lib/python3.10/site-packages (from pydantic) (4.11.0)\n",
      "Using cached pydantic-2.8.2-py3-none-any.whl (423 kB)\n",
      "Using cached pydantic_core-2.20.1-cp310-cp310-manylinux_2_17_x86_64.manylinux2014_x86_64.whl (2.1 MB)\n",
      "Installing collected packages: pydantic-core, pydantic\n",
      "  Attempting uninstall: pydantic-core\n",
      "    Found existing installation: pydantic_core 2.18.1\n",
      "    Uninstalling pydantic_core-2.18.1:\n",
      "      Successfully uninstalled pydantic_core-2.18.1\n",
      "  Attempting uninstall: pydantic\n",
      "    Found existing installation: pydantic 1.10.14\n",
      "    Uninstalling pydantic-1.10.14:\n",
      "      Successfully uninstalled pydantic-1.10.14\n",
      "\u001b[31mERROR: pip's dependency resolver does not currently take into account all the packages that are installed. This behaviour is the source of the following dependency conflicts.\n",
      "gluonts 0.13.7 requires pydantic~=1.7, but you have pydantic 2.8.2 which is incompatible.\n",
      "sagemaker-jupyterlab-extension-common 0.1.15 requires pydantic==1.*, but you have pydantic 2.8.2 which is incompatible.\u001b[0m\u001b[31m\n",
      "\u001b[0mSuccessfully installed pydantic-2.7.0 pydantic-core-2.20.1\n",
      "Note: you may need to restart the kernel to use updated packages.\n",
      "Collecting tsne-torch\n",
      "  Using cached tsne_torch-1.0.1-py3-none-any.whl\n",
      "Requirement already satisfied: torch in /opt/conda/lib/python3.10/site-packages (from tsne-torch) (2.0.0.post304)\n",
      "Requirement already satisfied: numpy in /opt/conda/lib/python3.10/site-packages (from tsne-torch) (1.26.4)\n",
      "Requirement already satisfied: tqdm in /opt/conda/lib/python3.10/site-packages (from tsne-torch) (4.66.4)\n",
      "Requirement already satisfied: filelock in /opt/conda/lib/python3.10/site-packages (from torch->tsne-torch) (3.14.0)\n",
      "Requirement already satisfied: typing-extensions in /opt/conda/lib/python3.10/site-packages (from torch->tsne-torch) (4.11.0)\n",
      "Requirement already satisfied: sympy in /opt/conda/lib/python3.10/site-packages (from torch->tsne-torch) (1.12)\n",
      "Requirement already satisfied: networkx in /opt/conda/lib/python3.10/site-packages (from torch->tsne-torch) (3.3)\n",
      "Requirement already satisfied: jinja2 in /opt/conda/lib/python3.10/site-packages (from torch->tsne-torch) (3.1.4)\n",
      "Requirement already satisfied: MarkupSafe>=2.0 in /opt/conda/lib/python3.10/site-packages (from jinja2->torch->tsne-torch) (2.1.5)\n",
      "Requirement already satisfied: mpmath>=0.19 in /opt/conda/lib/python3.10/site-packages (from sympy->torch->tsne-torch) (1.3.0)\n",
      "Installing collected packages: tsne-torch\n",
      "Successfully installed tsne-torch-1.0.1\n",
      "Note: you may need to restart the kernel to use updated packages.\n"
     ]
    }
   ],
   "source": [
    "%pip install ragas\n",
    "%pip install matplotlib\n",
    "%pip install torch\n",
    "%pip install umap-learn\n",
    "%pip install tiktoken\n",
    "%pip install openai\n",
    "%pip install umap-pytorch\n",
    "%pip install -U pydantic\n",
    "%pip install tsne-torch"
   ]
  },
  {
   "cell_type": "code",
   "execution_count": 2,
   "id": "270a2f4a-1781-46db-8413-a7c0726511f4",
   "metadata": {
    "tags": []
   },
   "outputs": [
    {
     "name": "stderr",
     "output_type": "stream",
     "text": [
      "2024-08-20 13:20:58.213883: I tensorflow/core/util/port.cc:113] oneDNN custom operations are on. You may see slightly different numerical results due to floating-point round-off errors from different computation orders. To turn them off, set the environment variable `TF_ENABLE_ONEDNN_OPTS=0`.\n",
      "2024-08-20 13:20:58.570627: I tensorflow/core/platform/cpu_feature_guard.cc:182] This TensorFlow binary is optimized to use available CPU instructions in performance-critical operations.\n",
      "To enable the following instructions: SSE4.1 SSE4.2 AVX AVX2 AVX512F AVX512_VNNI FMA, in other operations, rebuild TensorFlow with the appropriate compiler flags.\n"
     ]
    },
    {
     "name": "stdout",
     "output_type": "stream",
     "text": [
      "[PhysicalDevice(name='/physical_device:CPU:0', device_type='CPU')]\n"
     ]
    }
   ],
   "source": [
    "import tensorflow as tf\n",
    "\n",
    "print(tf.config.list_physical_devices())"
   ]
  },
  {
   "cell_type": "code",
   "execution_count": null,
   "id": "2d4e2a42-91a8-4055-80c3-f450ec8b2f8f",
   "metadata": {
    "tags": []
   },
   "outputs": [],
   "source": []
  },
  {
   "cell_type": "code",
   "execution_count": 3,
   "id": "db98a99a-85f3-4312-b038-5f64c254101f",
   "metadata": {},
   "outputs": [],
   "source": [
    "import warnings\n",
    "\n",
    "warnings.simplefilter(\"ignore\")\n",
    "\n",
    "import time\n",
    "\n",
    "import torch\n",
    "\n",
    "from tsne_based_rag import TSNE_Based_RAG_Util\n",
    "\n",
    "from umap_based_rag import UMAP_Based_RAG_Util\n",
    "\n",
    "from som_based_rag import SOM_Based_RAG_Util\n",
    "\n",
    "from wiki_datasource import WikiEventsDataSource\n",
    "\n",
    "from openai_vector_encoder import OpenAIEmbeddingsVectorEncoder\n",
    "\n",
    "from openai_qa_chatbot import OpenAIQuestionAnswerChatBot\n",
    "\n",
    "from ragas.metrics import (\n",
    "    answer_relevancy,\n",
    "    faithfulness,\n",
    "    context_recall,\n",
    "    context_precision,\n",
    ")\n",
    "\n",
    "from ragas import evaluate\n",
    "\n",
    "from datasets import Dataset , load_dataset\n",
    "\n",
    "import pandas as pd\n",
    "\n",
    "import os"
   ]
  },
  {
   "cell_type": "code",
   "execution_count": 4,
   "id": "d655453b-0e4f-4216-8987-7e9f5f72f8b9",
   "metadata": {},
   "outputs": [],
   "source": [
    "device = 'cuda' if torch.cuda.is_available() else 'cpu'"
   ]
  },
  {
   "cell_type": "code",
   "execution_count": 11,
   "id": "3bc95728-72f5-4c19-a9e5-091d402ea0c1",
   "metadata": {},
   "outputs": [],
   "source": [
    "openai_key  = \"openai key here\"\n",
    "\n",
    "os.environ[\"OPENAI_API_KEY\"] = openai_key\n",
    "\n",
    "openai_vector_encoder_id = \"text-embedding-ada-002\"\n",
    "\n",
    "openai_encoded_vector_dimensions = 1536\n",
    "\n",
    "openai_tokenizer_name = \"cl100k_base\" \n",
    "\n",
    "openai_model_name = \"gpt-3.5-turbo-instruct\"\n",
    "\n",
    "vector_encoder = OpenAIEmbeddingsVectorEncoder( openai_encoded_vector_dimensions, openai_vector_encoder_id, openai_key )"
   ]
  },
  {
   "cell_type": "code",
   "execution_count": 12,
   "id": "df6c5da9-c735-4de4-9dcd-cc5acff04125",
   "metadata": {},
   "outputs": [],
   "source": [
    "event_years_to_fetch = [ 2022, 2023, 2024 ]\n",
    "data_source = WikiEventsDataSource( event_years_to_fetch  )"
   ]
  },
  {
   "cell_type": "code",
   "execution_count": 13,
   "id": "50a977b7-28d3-4cc0-8461-072aa7e3f123",
   "metadata": {},
   "outputs": [],
   "source": [
    "#init the algorithm utils\n",
    "umap_driven_rag_util = UMAP_Based_RAG_Util( \n",
    "                                            vector_encoder = vector_encoder,\n",
    "                                            n_neighbors = 5,\n",
    "                                            min_dist = 0.1,\n",
    "                                            n_components = 2,\n",
    "                                            k_clusters = 100,\n",
    "                                            metric = 'cosine',\n",
    "                                            topk_bmu_for_indexing = 10,\n",
    "                                            device = device\n",
    "                                        )"
   ]
  },
  {
   "cell_type": "code",
   "execution_count": 14,
   "id": "3f3a2680-c46a-4790-9bf0-4e4f3785cbc6",
   "metadata": {},
   "outputs": [],
   "source": [
    "som_driven_rag_util = SOM_Based_RAG_Util( \n",
    "                                            vector_encoder = vector_encoder,\n",
    "                                            som_lattice_height = 20,\n",
    "                                            som_lattice_width = 30,\n",
    "                                            learning_rate = 0.3,\n",
    "                                            topk_bmu_for_indexing = 5,\n",
    "                                            device = device\n",
    "                                        )"
   ]
  },
  {
   "cell_type": "code",
   "execution_count": 15,
   "id": "d0740c19-5cf8-4f5e-b8ff-7641aa50159e",
   "metadata": {},
   "outputs": [],
   "source": [
    "tsne_driven_rag_util = TSNE_Based_RAG_Util( \n",
    "                    vector_encoder = vector_encoder, \n",
    "                    n_components = 2,\n",
    "                    k_clusters = 100,\n",
    "                    epochs =  300, \n",
    "                    perplexity  = 30,\n",
    "                    metric = 'cosine',\n",
    "                    topk_bmu_for_indexing = 10,\n",
    "                    vectorize_batch_size  = 100,\n",
    "                    device = device\n",
    "                                        )"
   ]
  },
  {
   "cell_type": "code",
   "execution_count": 16,
   "id": "4d466bc1-882b-46b6-9d0f-d5e480344fb9",
   "metadata": {},
   "outputs": [
    {
     "data": {
      "application/vnd.jupyter.widget-view+json": {
       "model_id": "8745f2357ce9459789ee2e1f20bddb1c",
       "version_major": 2,
       "version_minor": 0
      },
      "text/plain": [
       "Vectorized Data Batch:   0%|          | 0/6 [00:00<?, ?it/s]"
      ]
     },
     "metadata": {},
     "output_type": "display_data"
    }
   ],
   "source": [
    "#load & vectorize data\n",
    "umap_driven_rag_util.load_n_vectorize_data( data_source )"
   ]
  },
  {
   "cell_type": "code",
   "execution_count": 17,
   "id": "d48008e1-372f-4323-a545-372a1e523e86",
   "metadata": {},
   "outputs": [
    {
     "name": "stdout",
     "output_type": "stream",
     "text": [
      "WARNING: Wiki events for the specified years already fetched. Ignoring the request...\n"
     ]
    },
    {
     "data": {
      "application/vnd.jupyter.widget-view+json": {
       "model_id": "23cf0d789ca54b8898319aca7abd84ba",
       "version_major": 2,
       "version_minor": 0
      },
      "text/plain": [
       "Vectorized Data Batch:   0%|          | 0/6 [00:00<?, ?it/s]"
      ]
     },
     "metadata": {},
     "output_type": "display_data"
    }
   ],
   "source": [
    "som_driven_rag_util.load_n_vectorize_data( data_source )"
   ]
  },
  {
   "cell_type": "code",
   "execution_count": 18,
   "id": "6fdc8de1-dd79-47bf-be8e-e3e7165ec20b",
   "metadata": {},
   "outputs": [
    {
     "name": "stdout",
     "output_type": "stream",
     "text": [
      "WARNING: Wiki events for the specified years already fetched. Ignoring the request...\n"
     ]
    },
    {
     "data": {
      "application/vnd.jupyter.widget-view+json": {
       "model_id": "f757fe5d2f8a47c1abd7f75324136337",
       "version_major": 2,
       "version_minor": 0
      },
      "text/plain": [
       "Vectorized Data Batch:   0%|          | 0/6 [00:00<?, ?it/s]"
      ]
     },
     "metadata": {},
     "output_type": "display_data"
    }
   ],
   "source": [
    "tsne_driven_rag_util.load_n_vectorize_data( data_source )"
   ]
  },
  {
   "cell_type": "code",
   "execution_count": 19,
   "id": "f03b9b4e-7213-42a4-9621-7dc421d9f3ad",
   "metadata": {},
   "outputs": [
    {
     "data": {
      "text/plain": [
       "torch.Size([529, 1536])"
      ]
     },
     "execution_count": 19,
     "metadata": {},
     "output_type": "execute_result"
    }
   ],
   "source": [
    "umap_driven_rag_util.vectors.shape\n",
    "som_driven_rag_util.vectors.shape"
   ]
  },
  {
   "cell_type": "code",
   "execution_count": 20,
   "id": "83ca31b5-c2d1-41d8-b797-f0cd557a0d1f",
   "metadata": {
    "scrolled": true
   },
   "outputs": [
    {
     "data": {
      "application/vnd.jupyter.widget-view+json": {
       "model_id": "554f6e1d8a594fc097a2d0b54dc2b7f0",
       "version_major": 2,
       "version_minor": 0
      },
      "text/plain": [
       "SOM-Based Indexed Vectors:   0%|          | 0/529 [00:00<?, ?it/s]"
      ]
     },
     "metadata": {},
     "output_type": "display_data"
    },
    {
     "name": "stdout",
     "output_type": "stream",
     "text": [
      "7.792618944000424\n"
     ]
    },
    {
     "data": {
      "image/png": "[encoded data removed]",
      "text/plain": [
       "<Figure size 640x480 with 1 Axes>"
      ]
     },
     "metadata": {},
     "output_type": "display_data"
    }
   ],
   "source": [
    "#train umap\n",
    "umap_train_t1 = time.perf_counter()\n",
    "umap_driven_rag_util.train_n_index_data_vectors()\n",
    "umap_training_time = time.perf_counter() - umap_train_t1\n",
    "print(umap_training_time)"
   ]
  },
  {
   "cell_type": "code",
   "execution_count": 21,
   "id": "4c43f564-ce59-474c-ade6-ed4fdf9d0b79",
   "metadata": {
    "scrolled": true,
    "tags": []
   },
   "outputs": [
    {
     "data": {
      "application/vnd.jupyter.widget-view+json": {
       "model_id": "e3520a3ee1054a94a3d5a8068f21a84d",
       "version_major": 2,
       "version_minor": 0
      },
      "text/plain": [
       "Kohonen's SOM Train Epochs:   0%|          | 0/100 [00:00<?, ?it/s]"
      ]
     },
     "metadata": {},
     "output_type": "display_data"
    },
    {
     "name": "stdout",
     "output_type": "stream",
     "text": [
      "data points dimensions torch.Size([529, 1536])  lattice dimensions torch.Size([600, 1536])\n"
     ]
    },
    {
     "data": {
      "application/vnd.jupyter.widget-view+json": {
       "model_id": "895d1de1bc8740f5a6f8ba87248ac0cb",
       "version_major": 2,
       "version_minor": 0
      },
      "text/plain": [
       "SOM-Based Indexed Vectors:   0%|          | 0/529 [00:00<?, ?it/s]"
      ]
     },
     "metadata": {},
     "output_type": "display_data"
    },
    {
     "name": "stdout",
     "output_type": "stream",
     "text": [
      "13.22091430799992\n"
     ]
    }
   ],
   "source": [
    "#train som\n",
    "som_train_t1 = time.perf_counter()\n",
    "som_driven_rag_util.train_n_index_data_vectors()\n",
    "som_training_time = time.perf_counter() - som_train_t1\n",
    "print(som_training_time)"
   ]
  },
  {
   "cell_type": "code",
   "execution_count": 22,
   "id": "6133460e-0c4e-4d12-be50-958b6f72ee60",
   "metadata": {},
   "outputs": [
    {
     "name": "stdout",
     "output_type": "stream",
     "text": [
      "[t-SNE] Computing 91 nearest neighbors...\n",
      "[t-SNE] Indexed 529 samples in 0.001s...\n",
      "[t-SNE] Computed neighbors for 529 samples in 0.020s...\n",
      "[t-SNE] Computed conditional probabilities for sample 529 / 529\n",
      "[t-SNE] Mean sigma: 0.238179\n",
      "[t-SNE] KL divergence after 250 iterations with early exaggeration: 62.409790\n",
      "[t-SNE] KL divergence after 300 iterations: 1.141483\n"
     ]
    },
    {
     "data": {
      "application/vnd.jupyter.widget-view+json": {
       "model_id": "875ad04eb42c41699c4213ae27ff663d",
       "version_major": 2,
       "version_minor": 0
      },
      "text/plain": [
       "SOM-Based Indexed Vectors:   0%|          | 0/529 [00:00<?, ?it/s]"
      ]
     },
     "metadata": {},
     "output_type": "display_data"
    },
    {
     "name": "stdout",
     "output_type": "stream",
     "text": [
      "1.1226011420003488\n"
     ]
    },
    {
     "data": {
      "image/png": "[encoded data removed]",
      "text/plain": [
       "<Figure size 640x480 with 1 Axes>"
      ]
     },
     "metadata": {},
     "output_type": "display_data"
    }
   ],
   "source": [
    "#train tsne\n",
    "tsne_train_t1 = time.perf_counter()\n",
    "tsne_driven_rag_util.train_n_index_data_vectors()\n",
    "tsne_training_time = time.perf_counter() - tsne_train_t1\n",
    "print(tsne_training_time)"
   ]
  },
  {
   "cell_type": "code",
   "execution_count": 23,
   "id": "b2d985a5-f6db-497d-b809-0d0e10269cc8",
   "metadata": {},
   "outputs": [
    {
     "data": {
      "text/plain": [
       "[{'text': 'September 21, 2024 – 2024 Sri Lankan presidential election.',\n",
       "  'sim_score': 0.731831967830658},\n",
       " {'text': 'July 21, 2022 – The Parliament of Sri Lanka elects Prime Minister Ranil Wickremesinghe as President of Sri Lanka, following the resignation of Gotabaya Rajapaksa amid protests over the ongoing economic crisis.',\n",
       "  'sim_score': 0.5689175724983215}]"
      ]
     },
     "execution_count": 23,
     "metadata": {},
     "output_type": "execute_result"
    }
   ],
   "source": [
    "#quick test to make sure we are fetching context\n",
    "umap_driven_rag_util.find_semantically_similar_data( \"Who won the 2024 Sri Lankan Presidential Election?\", sim_threshold = 0.55 )"
   ]
  },
  {
   "cell_type": "code",
   "execution_count": 24,
   "id": "18b37fab-1512-42b9-8346-d18128607b87",
   "metadata": {},
   "outputs": [
    {
     "data": {
      "text/plain": [
       "[{'text': 'September 21, 2024 – 2024 Sri Lankan presidential election.',\n",
       "  'sim_score': 0.7317341566085815}]"
      ]
     },
     "execution_count": 24,
     "metadata": {},
     "output_type": "execute_result"
    }
   ],
   "source": [
    "som_driven_rag_util.find_semantically_similar_data( \"Who won the 2024 Sri Lankan Presidential Election?\", sim_threshold = 0.55 )"
   ]
  },
  {
   "cell_type": "code",
   "execution_count": 25,
   "id": "9f8d25b4-8737-4a26-a3e7-3168db4090f0",
   "metadata": {},
   "outputs": [],
   "source": [
    "#init the chatbots\n",
    "umap_openai_chatbot = OpenAIQuestionAnswerChatBot( \n",
    "                                                vector_db_util = umap_driven_rag_util,\n",
    "                                                openai_tokenizer_name = openai_tokenizer_name,\n",
    "                                                openai_model_name = openai_model_name,\n",
    "                                                openai_key = openai_key,\n",
    "                                                question_input_max_token_count = 100,\n",
    "                                                context_trim_percent = 0.1,\n",
    "                                                device = device\n",
    "                                            )"
   ]
  },
  {
   "cell_type": "code",
   "execution_count": 26,
   "id": "7b3e6d23-92aa-4989-90b6-097c1065773b",
   "metadata": {},
   "outputs": [],
   "source": [
    "som_openai_chatbot = OpenAIQuestionAnswerChatBot( \n",
    "                                                vector_db_util = som_driven_rag_util,\n",
    "                                                openai_tokenizer_name = openai_tokenizer_name,\n",
    "                                                openai_model_name = openai_model_name,\n",
    "                                                openai_key = openai_key,\n",
    "                                                question_input_max_token_count = 100,\n",
    "                                                context_trim_percent = 0.1,\n",
    "                                                device = device\n",
    "                                            )\n"
   ]
  },
  {
   "cell_type": "code",
   "execution_count": 27,
   "id": "e9079f71-b305-4257-8453-4b2126e50975",
   "metadata": {},
   "outputs": [],
   "source": [
    "tsne_openai_chatbot = OpenAIQuestionAnswerChatBot( \n",
    "                                                vector_db_util = tsne_driven_rag_util,\n",
    "                                                openai_tokenizer_name = openai_tokenizer_name,\n",
    "                                                openai_model_name = openai_model_name,\n",
    "                                                openai_key = openai_key,\n",
    "                                                question_input_max_token_count = 100,\n",
    "                                                context_trim_percent = 0.1,\n",
    "                                                device = device\n",
    "                                            )"
   ]
  },
  {
   "cell_type": "code",
   "execution_count": 28,
   "id": "f9872300-f18e-4ca6-b488-63ba76f170bd",
   "metadata": {},
   "outputs": [],
   "source": [
    "sample_questions =    [\"Who won the 2024 Sri Lankan Presidential Election?\",\n",
    "                    \"Who won the 2022 soccer world cup?\",\n",
    "                        \"When did Sweden join NATO?\",\n",
    "                        \"Who joined NATO in 2023?\", \n",
    "                        \"Who joined NATO in 2024?\", \n",
    "                        \"Which is the 31st member of NATO?\", \n",
    "                        \"Which is the 32nd member of NATO?\", \n",
    "                        \"Who won the Cricket World Cup in 2023?\", \n",
    "                        \"Who defeated India in Cricket World Cup final in 2023?\", \n",
    "                        \"Name the former prime minister of Japan that was assassinated in 2022?\", \n",
    "                        \"When did Chandrayaan-3 land near the south pole of the Moon?\", \n",
    "                        \"Where did Chandrayaan-3 land on the Moon?\",\n",
    "                        \"Who acquired Twitter in 2022?\", \n",
    "                        \"Who owns Twitter?\",\n",
    "                        \"Who acquired Activision Blizzard in 2023?\", \n",
    "                        \"What country was invaded by Russia in 2022?\", \n",
    "                        \"What year did Russia invade Ukraine?\" ]\n",
    "                   \n",
    "sample_answers =    [\"The winner of the 2024 Sri Lankan Presidential Election was Ranil Wickremesinghe\",\n",
    "                       \"The winner of the 2022 Soccer World Cup was Argentina\",\n",
    "                      \"Sweden joined NATO in 2024\",\n",
    "                     \"Finland joined NATO in 2023\",\n",
    "                        \"Sweden joined NATO in 2024\",\n",
    "                        \"Finland joined NATO in 2023, becoming the 31st member state.\",\n",
    "                       \"Sweden joined NATO in 2023, becoming the 32nd member state.\",\n",
    "                       \"Australia won the 2023 cricket world cup\",\n",
    "                        \"Australia defeated India in the 2023 cricket world cup.\",\n",
    "                        \"Former Prime Minister of Japan, Shinzo Abe, was assasinated in 2022.\",\n",
    "                      \"On July 14, 2023, India successfully landed lunar prove Chandrayaan-3 near the moon's south pole\",\n",
    "                       \"On July 14, 2023, India successfully landed lunar prove Chandrayaan-3 near the moon's south pole\",\n",
    "                         \"Elon Musk aquired social media platform twitter in 2022 for 44 billion dollars\",\n",
    "                         \"Elon Musk has owned twitter since he aquired the platform for 44 billion usd in 2022\",\n",
    "                         \"Microsoft aquired activision blizzard in 2023\",\n",
    "                      \"Ukraine was invaded by Russia in 2022\",\n",
    "                        \"Russia invaded Ukraine in 2022\"]"
   ]
  },
  {
   "cell_type": "code",
   "execution_count": 29,
   "id": "e264a73f-a8d8-479e-b9c8-1241bd0a9c57",
   "metadata": {},
   "outputs": [],
   "source": [
    "#dictionaries to be turned into datasets for the ragas frameworks\n",
    "dataset_dict_umap = {\n",
    "    \"question\" : sample_questions,\n",
    "    \"ground_truth\" :  sample_answers,\n",
    "    \"answer\" : [\"\"] * 17,\n",
    "    \"contexts\" : [[\"\"]]*17\n",
    "}\n",
    "\n",
    "dataset_dict_som = {\n",
    "    \"question\" : sample_questions,\n",
    "    \"ground_truth\" :  sample_answers,\n",
    "    \"answer\" : [\"\"] * 17,\n",
    "    \"contexts\" : [[\"\"]]*17\n",
    "}\n",
    "\n",
    "dataset_dict_tsne = {\n",
    "    \"question\" : sample_questions,\n",
    "    \"ground_truth\" :  sample_answers,\n",
    "    \"answer\" : [\"\"] * 17,\n",
    "    \"contexts\" : [[\"\"]]*17\n",
    "}\n"
   ]
  },
  {
   "cell_type": "code",
   "execution_count": 30,
   "id": "fed35e14-c9d7-4c97-a5f3-4284f91c832a",
   "metadata": {},
   "outputs": [
    {
     "name": "stdout",
     "output_type": "stream",
     "text": [
      "\n",
      "Question: Who won the 2024 Sri Lankan Presidential Election?\n",
      "Answer: As of now, it is not possible to determine the outcome of the 202\n",
      "\n",
      "Question: Who won the 2022 soccer world cup?\n",
      "Answer: The 2022 soccer world cup has not yet taken place, so the winner\n",
      "\n",
      "Question: When did Sweden join NATO?\n",
      "Answer: Sweden never joined NATO.\n",
      "\n",
      "Question: Who joined NATO in 2023?\n",
      "Answer: I'm sorry, I cannot answer this question as I am a pre-trained AI\n",
      "\n",
      "Question: Who joined NATO in 2024?\n",
      "Answer: Nobody knows for sure who will join NATO in 2024. It could be\n",
      "\n",
      "Question: Which is the 31st member of NATO?\n",
      "Answer: Albania.\n",
      "\n",
      "Question: Which is the 32nd member of NATO?\n",
      "Answer: There is no single \"32nd member\" of NATO, as the organization\n",
      "\n",
      "Question: Who won the Cricket World Cup in 2023?\n",
      "Answer: The 2023 Cricket World Cup has not yet taken place, so it\n",
      "\n",
      "Question: Who defeated India in Cricket World Cup final in 2023?\n",
      "Answer: It is not possible to answer this question as it has not happened yet. The\n",
      "\n",
      "Question: Name the former prime minister of Japan that was assassinated in 2022?\n",
      "Answer: There is currently no information available on a former prime minister of Japan being assassinated\n",
      "\n",
      "Question: When did Chandrayaan-3 land near the south pole of the Moon?\n",
      "Answer: As of now, there is no confirmed date for when the Chandrayaan-\n",
      "\n",
      "Question: Where did Chandrayaan-3 land on the Moon?\n",
      "Answer: The Chandrayaan-3 mission was not successful in landing on the Moon.\n",
      "\n",
      "Question: Who acquired Twitter in 2022?\n",
      "Answer: I do not have any information about Twitter being acquired in 2022. The\n",
      "\n",
      "Question: Who owns Twitter?\n",
      "Answer: Twitter is owned by Twitter, Inc., a publicly traded American company founded by\n",
      "\n",
      "Question: Who acquired Activision Blizzard in 2023?\n",
      "Answer: There is no prediction or answer to this question as it is asking for information from\n",
      "\n",
      "Question: What country was invaded by Russia in 2022?\n",
      "Answer: There is no information available about a Russian invasion in 2022. Russia is\n",
      "\n",
      "Question: What year did Russia invade Ukraine?\n",
      "Answer: I cannot answer this question without accurate and up-to-date information. I am an\n"
     ]
    }
   ],
   "source": [
    "#answering questions with no context\n",
    "for sample_question in sample_questions:\n",
    "    print( f\"\\nQuestion: {sample_question}\" )\n",
    "    answer = umap_openai_chatbot.find_answer_to_question_without_context( sample_question )\n",
    "    print( f\"Answer: {answer}\" )\n"
   ]
  },
  {
   "cell_type": "code",
   "execution_count": 31,
   "id": "fe95045b-c572-4365-b3ce-48193603635c",
   "metadata": {},
   "outputs": [
    {
     "name": "stdout",
     "output_type": "stream",
     "text": [
      "\n",
      "Question: Who won the 2024 Sri Lankan Presidential Election?\n",
      "Answer: Prime Minister Ranil Wickremesinghe was elected as President of Sri Lanka\n",
      "\n",
      "Question: Who won the 2022 soccer world cup?\n",
      "Answer: Argentina won the 2022 FIFA World Cup.\n",
      "\n",
      "Question: When did Sweden join NATO?\n",
      "Answer: March 7, 2024.\n",
      "\n",
      "Question: Who joined NATO in 2023?\n",
      "Answer: Finland.\n",
      "\n",
      "Question: Who joined NATO in 2024?\n",
      "Answer: Sweden.\n",
      "\n",
      "Question: Which is the 31st member of NATO?\n",
      "Answer: Finland.\n",
      "\n",
      "Question: Which is the 32nd member of NATO?\n",
      "Answer: Sweden\n",
      "\n",
      "Question: Who won the Cricket World Cup in 2023?\n",
      "Answer: Australia.\n",
      "\n",
      "Question: Who defeated India in Cricket World Cup final in 2023?\n",
      "Answer: Australia\n",
      "\n",
      "Question: Name the former prime minister of Japan that was assassinated in 2022?\n",
      "Answer: Shinzo Abe\n",
      "\n",
      "Question: When did Chandrayaan-3 land near the south pole of the Moon?\n",
      "Answer: August 23, 2023\n",
      "\n",
      "Question: Where did Chandrayaan-3 land on the Moon?\n",
      "Answer: Near the south pole of the Moon.\n",
      "\n",
      "Question: Who acquired Twitter in 2022?\n",
      "Answer: Elon Musk.\n",
      "\n",
      "Question: Who owns Twitter?\n",
      "Answer: Elon Musk owns Twitter.\n",
      "\n",
      "Question: Who acquired Activision Blizzard in 2023?\n",
      "Answer: Microsoft\n",
      "\n",
      "Question: What country was invaded by Russia in 2022?\n",
      "Answer: Ukraine\n",
      "\n",
      "Question: What year did Russia invade Ukraine?\n",
      "Answer: 2022\n"
     ]
    }
   ],
   "source": [
    "sim_threshold = 0.55\n",
    "for i in range(0, len(sample_questions)):\n",
    "    print( f\"\\nQuestion: {sample_questions[i]}\" )\n",
    "    answer = umap_openai_chatbot.find_answer_to_question( sample_questions[i], sim_threshold = sim_threshold, data_dict = dataset_dict_umap, data_dict_index = i )\n",
    "    print( f\"Answer: {answer}\" )"
   ]
  },
  {
   "cell_type": "code",
   "execution_count": 32,
   "id": "df456a7d-1bfd-4dac-8952-916ecccf69f3",
   "metadata": {},
   "outputs": [
    {
     "name": "stdout",
     "output_type": "stream",
     "text": [
      "<class 'list'>\n"
     ]
    },
    {
     "data": {
      "application/vnd.jupyter.widget-view+json": {
       "model_id": "e4f59ea7dd694a0989cce26475ea01f3",
       "version_major": 2,
       "version_minor": 0
      },
      "text/plain": [
       "Evaluating:   0%|          | 0/68 [00:00<?, ?it/s]"
      ]
     },
     "metadata": {},
     "output_type": "display_data"
    },
    {
     "name": "stderr",
     "output_type": "stream",
     "text": [
      "No statements were generated from the answer.\n"
     ]
    },
    {
     "data": {
      "text/html": [
       "<div>\n",
       "<style scoped>\n",
       "    .dataframe tbody tr th:only-of-type {\n",
       "        vertical-align: middle;\n",
       "    }\n",
       "\n",
       "    .dataframe tbody tr th {\n",
       "        vertical-align: top;\n",
       "    }\n",
       "\n",
       "    .dataframe thead th {\n",
       "        text-align: right;\n",
       "    }\n",
       "</style>\n",
       "<table border=\"1\" class=\"dataframe\">\n",
       "  <thead>\n",
       "    <tr style=\"text-align: right;\">\n",
       "      <th></th>\n",
       "      <th>question</th>\n",
       "      <th>ground_truth</th>\n",
       "      <th>answer</th>\n",
       "      <th>contexts</th>\n",
       "      <th>context_precision</th>\n",
       "      <th>faithfulness</th>\n",
       "      <th>answer_relevancy</th>\n",
       "      <th>context_recall</th>\n",
       "    </tr>\n",
       "  </thead>\n",
       "  <tbody>\n",
       "    <tr>\n",
       "      <th>0</th>\n",
       "      <td>Who won the 2024 Sri Lankan Presidential Elect...</td>\n",
       "      <td>The winner of the 2024 Sri Lankan Presidential...</td>\n",
       "      <td>Prime Minister Ranil Wickremesinghe was electe...</td>\n",
       "      <td>[September 21, 2024 – 2024 Sri Lankan presiden...</td>\n",
       "      <td>0.0</td>\n",
       "      <td>1.0</td>\n",
       "      <td>0.930572</td>\n",
       "      <td>0.0</td>\n",
       "    </tr>\n",
       "    <tr>\n",
       "      <th>1</th>\n",
       "      <td>Who won the 2022 soccer world cup?</td>\n",
       "      <td>The winner of the 2022 Soccer World Cup was Ar...</td>\n",
       "      <td>Argentina won the 2022 FIFA World Cup.</td>\n",
       "      <td>[December 18, 2022 – Argentina wins the 2022 F...</td>\n",
       "      <td>1.0</td>\n",
       "      <td>1.0</td>\n",
       "      <td>0.984046</td>\n",
       "      <td>1.0</td>\n",
       "    </tr>\n",
       "    <tr>\n",
       "      <th>2</th>\n",
       "      <td>When did Sweden join NATO?</td>\n",
       "      <td>Sweden joined NATO in 2024</td>\n",
       "      <td>March 7, 2024.</td>\n",
       "      <td>[March 7, 2024 – As the final Nordic country t...</td>\n",
       "      <td>1.0</td>\n",
       "      <td>1.0</td>\n",
       "      <td>0.989357</td>\n",
       "      <td>1.0</td>\n",
       "    </tr>\n",
       "    <tr>\n",
       "      <th>3</th>\n",
       "      <td>Who joined NATO in 2023?</td>\n",
       "      <td>Finland joined NATO in 2023</td>\n",
       "      <td>Finland.</td>\n",
       "      <td>[April 4, 2023 – Finland becomes the 31st memb...</td>\n",
       "      <td>1.0</td>\n",
       "      <td>1.0</td>\n",
       "      <td>0.894772</td>\n",
       "      <td>1.0</td>\n",
       "    </tr>\n",
       "    <tr>\n",
       "      <th>4</th>\n",
       "      <td>Who joined NATO in 2024?</td>\n",
       "      <td>Sweden joined NATO in 2024</td>\n",
       "      <td>Sweden.</td>\n",
       "      <td>[April 4, 2023 – Finland becomes the 31st memb...</td>\n",
       "      <td>0.5</td>\n",
       "      <td>1.0</td>\n",
       "      <td>0.883034</td>\n",
       "      <td>1.0</td>\n",
       "    </tr>\n",
       "  </tbody>\n",
       "</table>\n",
       "</div>"
      ],
      "text/plain": [
       "                                            question  \\\n",
       "0  Who won the 2024 Sri Lankan Presidential Elect...   \n",
       "1                 Who won the 2022 soccer world cup?   \n",
       "2                         When did Sweden join NATO?   \n",
       "3                           Who joined NATO in 2023?   \n",
       "4                           Who joined NATO in 2024?   \n",
       "\n",
       "                                        ground_truth  \\\n",
       "0  The winner of the 2024 Sri Lankan Presidential...   \n",
       "1  The winner of the 2022 Soccer World Cup was Ar...   \n",
       "2                         Sweden joined NATO in 2024   \n",
       "3                        Finland joined NATO in 2023   \n",
       "4                         Sweden joined NATO in 2024   \n",
       "\n",
       "                                              answer  \\\n",
       "0  Prime Minister Ranil Wickremesinghe was electe...   \n",
       "1             Argentina won the 2022 FIFA World Cup.   \n",
       "2                                     March 7, 2024.   \n",
       "3                                           Finland.   \n",
       "4                                            Sweden.   \n",
       "\n",
       "                                            contexts  context_precision  \\\n",
       "0  [September 21, 2024 – 2024 Sri Lankan presiden...                0.0   \n",
       "1  [December 18, 2022 – Argentina wins the 2022 F...                1.0   \n",
       "2  [March 7, 2024 – As the final Nordic country t...                1.0   \n",
       "3  [April 4, 2023 – Finland becomes the 31st memb...                1.0   \n",
       "4  [April 4, 2023 – Finland becomes the 31st memb...                0.5   \n",
       "\n",
       "   faithfulness  answer_relevancy  context_recall  \n",
       "0           1.0          0.930572             0.0  \n",
       "1           1.0          0.984046             1.0  \n",
       "2           1.0          0.989357             1.0  \n",
       "3           1.0          0.894772             1.0  \n",
       "4           1.0          0.883034             1.0  "
      ]
     },
     "execution_count": 32,
     "metadata": {},
     "output_type": "execute_result"
    }
   ],
   "source": [
    "dataset_umap = Dataset.from_dict(dataset_dict_umap)\n",
    "\n",
    "print(type(dataset_umap['contexts']))\n",
    "result =evaluate(\n",
    "    dataset_umap,\n",
    "    metrics=[\n",
    "        context_precision,\n",
    "        faithfulness,\n",
    "        answer_relevancy,\n",
    "        context_recall,\n",
    "    ], \n",
    ")\n",
    "\n",
    "result.to_pandas().head()"
   ]
  },
  {
   "cell_type": "code",
   "execution_count": 33,
   "id": "d40a1e4e-8820-459a-9bc5-a6adfab545a0",
   "metadata": {},
   "outputs": [
    {
     "name": "stdout",
     "output_type": "stream",
     "text": [
      "\n",
      "Question: Who won the 2024 Sri Lankan Presidential Election?\n",
      "Answer: As of now, it is impossible to say for certain. However, some of\n",
      "\n",
      "Question: Who won the 2022 soccer world cup?\n",
      "Answer: Argentina won the 2022 soccer world cup.\n",
      "\n",
      "Question: When did Sweden join NATO?\n",
      "Answer: March 7, 2024\n",
      "\n",
      "Question: Who joined NATO in 2023?\n",
      "Answer: Finland.\n",
      "\n",
      "Question: Who joined NATO in 2024?\n",
      "Answer: Sweden.\n",
      "\n",
      "Question: Which is the 31st member of NATO?\n",
      "Answer: Finland\n",
      "\n",
      "Question: Which is the 32nd member of NATO?\n",
      "Answer: Sweden\n",
      "\n",
      "Question: Who won the Cricket World Cup in 2023?\n",
      "Answer: Australia\n",
      "\n",
      "Question: Who defeated India in Cricket World Cup final in 2023?\n",
      "Answer: Australia\n",
      "\n",
      "Question: Name the former prime minister of Japan that was assassinated in 2022?\n",
      "Answer: Shinzo Abe\n",
      "\n",
      "Question: When did Chandrayaan-3 land near the south pole of the Moon?\n",
      "Answer: Chandrayaan-3 landed near the south pole of the Moon on August\n",
      "\n",
      "Question: Where did Chandrayaan-3 land on the Moon?\n",
      "Answer: Near the south pole of the Moon.\n",
      "\n",
      "Question: Who acquired Twitter in 2022?\n",
      "Answer: Elon Musk.\n",
      "\n",
      "Question: Who owns Twitter?\n",
      "Answer: Elon Musk.\n",
      "\n",
      "Question: Who acquired Activision Blizzard in 2023?\n",
      "Answer: Microsoft.\n",
      "\n",
      "Question: What country was invaded by Russia in 2022?\n",
      "Answer: Ukraine\n",
      "\n",
      "Question: What year did Russia invade Ukraine?\n",
      "Answer: 2022\n"
     ]
    }
   ],
   "source": [
    "\n",
    "for i in range(0, len(sample_questions)):\n",
    "    print( f\"\\nQuestion: {sample_questions[i]}\" )\n",
    "    answer = som_openai_chatbot.find_answer_to_question( sample_questions[i], sim_threshold = sim_threshold, data_dict = dataset_dict_som, data_dict_index = i )\n",
    "    print( f\"Answer: {answer}\" )\n"
   ]
  },
  {
   "cell_type": "code",
   "execution_count": 34,
   "id": "c624773f-a1fd-4273-9fb8-db387f2d1192",
   "metadata": {},
   "outputs": [
    {
     "data": {
      "application/vnd.jupyter.widget-view+json": {
       "model_id": "624b5a56b15f4d0ebb90426642c436fb",
       "version_major": 2,
       "version_minor": 0
      },
      "text/plain": [
       "Evaluating:   0%|          | 0/68 [00:00<?, ?it/s]"
      ]
     },
     "metadata": {},
     "output_type": "display_data"
    },
    {
     "data": {
      "text/html": [
       "<div>\n",
       "<style scoped>\n",
       "    .dataframe tbody tr th:only-of-type {\n",
       "        vertical-align: middle;\n",
       "    }\n",
       "\n",
       "    .dataframe tbody tr th {\n",
       "        vertical-align: top;\n",
       "    }\n",
       "\n",
       "    .dataframe thead th {\n",
       "        text-align: right;\n",
       "    }\n",
       "</style>\n",
       "<table border=\"1\" class=\"dataframe\">\n",
       "  <thead>\n",
       "    <tr style=\"text-align: right;\">\n",
       "      <th></th>\n",
       "      <th>question</th>\n",
       "      <th>ground_truth</th>\n",
       "      <th>answer</th>\n",
       "      <th>contexts</th>\n",
       "      <th>context_precision</th>\n",
       "      <th>faithfulness</th>\n",
       "      <th>answer_relevancy</th>\n",
       "      <th>context_recall</th>\n",
       "    </tr>\n",
       "  </thead>\n",
       "  <tbody>\n",
       "    <tr>\n",
       "      <th>0</th>\n",
       "      <td>Who won the 2024 Sri Lankan Presidential Elect...</td>\n",
       "      <td>The winner of the 2024 Sri Lankan Presidential...</td>\n",
       "      <td>As of now, it is impossible to say for certain...</td>\n",
       "      <td>[September 21, 2024 – 2024 Sri Lankan presiden...</td>\n",
       "      <td>0.0</td>\n",
       "      <td>1.0</td>\n",
       "      <td>0.000000</td>\n",
       "      <td>0.0</td>\n",
       "    </tr>\n",
       "    <tr>\n",
       "      <th>1</th>\n",
       "      <td>Who won the 2022 soccer world cup?</td>\n",
       "      <td>The winner of the 2022 Soccer World Cup was Ar...</td>\n",
       "      <td>Argentina won the 2022 soccer world cup.</td>\n",
       "      <td>[December 18, 2022 – Argentina wins the 2022 F...</td>\n",
       "      <td>1.0</td>\n",
       "      <td>1.0</td>\n",
       "      <td>0.984072</td>\n",
       "      <td>1.0</td>\n",
       "    </tr>\n",
       "    <tr>\n",
       "      <th>2</th>\n",
       "      <td>When did Sweden join NATO?</td>\n",
       "      <td>Sweden joined NATO in 2024</td>\n",
       "      <td>March 7, 2024</td>\n",
       "      <td>[March 7, 2024 – As the final Nordic country t...</td>\n",
       "      <td>1.0</td>\n",
       "      <td>1.0</td>\n",
       "      <td>0.989420</td>\n",
       "      <td>1.0</td>\n",
       "    </tr>\n",
       "    <tr>\n",
       "      <th>3</th>\n",
       "      <td>Who joined NATO in 2023?</td>\n",
       "      <td>Finland joined NATO in 2023</td>\n",
       "      <td>Finland.</td>\n",
       "      <td>[April 4, 2023 – Finland becomes the 31st memb...</td>\n",
       "      <td>1.0</td>\n",
       "      <td>1.0</td>\n",
       "      <td>0.930226</td>\n",
       "      <td>1.0</td>\n",
       "    </tr>\n",
       "    <tr>\n",
       "      <th>4</th>\n",
       "      <td>Who joined NATO in 2024?</td>\n",
       "      <td>Sweden joined NATO in 2024</td>\n",
       "      <td>Sweden.</td>\n",
       "      <td>[April 4, 2023 – Finland becomes the 31st memb...</td>\n",
       "      <td>0.5</td>\n",
       "      <td>1.0</td>\n",
       "      <td>0.883027</td>\n",
       "      <td>1.0</td>\n",
       "    </tr>\n",
       "  </tbody>\n",
       "</table>\n",
       "</div>"
      ],
      "text/plain": [
       "                                            question  \\\n",
       "0  Who won the 2024 Sri Lankan Presidential Elect...   \n",
       "1                 Who won the 2022 soccer world cup?   \n",
       "2                         When did Sweden join NATO?   \n",
       "3                           Who joined NATO in 2023?   \n",
       "4                           Who joined NATO in 2024?   \n",
       "\n",
       "                                        ground_truth  \\\n",
       "0  The winner of the 2024 Sri Lankan Presidential...   \n",
       "1  The winner of the 2022 Soccer World Cup was Ar...   \n",
       "2                         Sweden joined NATO in 2024   \n",
       "3                        Finland joined NATO in 2023   \n",
       "4                         Sweden joined NATO in 2024   \n",
       "\n",
       "                                              answer  \\\n",
       "0  As of now, it is impossible to say for certain...   \n",
       "1           Argentina won the 2022 soccer world cup.   \n",
       "2                                      March 7, 2024   \n",
       "3                                           Finland.   \n",
       "4                                            Sweden.   \n",
       "\n",
       "                                            contexts  context_precision  \\\n",
       "0  [September 21, 2024 – 2024 Sri Lankan presiden...                0.0   \n",
       "1  [December 18, 2022 – Argentina wins the 2022 F...                1.0   \n",
       "2  [March 7, 2024 – As the final Nordic country t...                1.0   \n",
       "3  [April 4, 2023 – Finland becomes the 31st memb...                1.0   \n",
       "4  [April 4, 2023 – Finland becomes the 31st memb...                0.5   \n",
       "\n",
       "   faithfulness  answer_relevancy  context_recall  \n",
       "0           1.0          0.000000             0.0  \n",
       "1           1.0          0.984072             1.0  \n",
       "2           1.0          0.989420             1.0  \n",
       "3           1.0          0.930226             1.0  \n",
       "4           1.0          0.883027             1.0  "
      ]
     },
     "execution_count": 34,
     "metadata": {},
     "output_type": "execute_result"
    }
   ],
   "source": [
    "dataset_som = Dataset.from_dict(dataset_dict_som)\n",
    "\n",
    "result =evaluate(\n",
    "    dataset_som,\n",
    "    metrics=[\n",
    "        context_precision,\n",
    "        faithfulness,\n",
    "        answer_relevancy,\n",
    "        context_recall,\n",
    "    ], \n",
    ")\n",
    "\n",
    "result.to_pandas().head()\n",
    "\n"
   ]
  },
  {
   "cell_type": "code",
   "execution_count": 35,
   "id": "30da30e8-8231-4a9c-882d-d5265b65f95b",
   "metadata": {},
   "outputs": [
    {
     "name": "stdout",
     "output_type": "stream",
     "text": [
      "\n",
      "Question: Who won the 2024 Sri Lankan Presidential Election?\n",
      "Answer: Ranil Wickremesinghe won the 2024 Sri Lankan Presidential\n",
      "\n",
      "Question: Who won the 2022 soccer world cup?\n",
      "Answer: Argentina.\n",
      "\n",
      "Question: When did Sweden join NATO?\n",
      "Answer: March 7, 2024\n",
      "\n",
      "Question: Who joined NATO in 2023?\n",
      "Answer: Finland\n",
      "\n",
      "Question: Who joined NATO in 2024?\n",
      "Answer: Sweden became the 32nd member of NATO in 2024, following Finland\n",
      "\n",
      "Question: Which is the 31st member of NATO?\n",
      "Answer: Finland\n",
      "\n",
      "Question: Which is the 32nd member of NATO?\n",
      "Answer: Sweden\n",
      "\n",
      "Question: Who won the Cricket World Cup in 2023?\n",
      "Answer: Australia won the Cricket World Cup in 2023.\n",
      "\n",
      "Question: Who defeated India in Cricket World Cup final in 2023?\n",
      "Answer: Australia\n",
      "\n",
      "Question: Name the former prime minister of Japan that was assassinated in 2022?\n",
      "Answer: Shinzo Abe\n",
      "\n",
      "Question: When did Chandrayaan-3 land near the south pole of the Moon?\n",
      "Answer: August 23, 2023\n",
      "\n",
      "Question: Where did Chandrayaan-3 land on the Moon?\n",
      "Answer: Near the south pole of the Moon.\n",
      "\n",
      "Question: Who acquired Twitter in 2022?\n",
      "Answer: Elon Musk.\n",
      "\n",
      "Question: Who owns Twitter?\n",
      "Answer: Elon Musk owns Twitter.\n",
      "\n",
      "Question: Who acquired Activision Blizzard in 2023?\n",
      "Answer: Microsoft\n",
      "\n",
      "Question: What country was invaded by Russia in 2022?\n",
      "Answer: Ukraine.\n",
      "\n",
      "Question: What year did Russia invade Ukraine?\n",
      "Answer: 2022\n"
     ]
    }
   ],
   "source": [
    "\n",
    "for i in range(0, len(sample_questions)):\n",
    "    print( f\"\\nQuestion: {sample_questions[i]}\" )\n",
    "    answer = tsne_openai_chatbot.find_answer_to_question( sample_questions[i], sim_threshold = sim_threshold, data_dict = dataset_dict_tsne, data_dict_index = i )\n",
    "    print( f\"Answer: {answer}\" )"
   ]
  },
  {
   "cell_type": "code",
   "execution_count": 36,
   "id": "065252bd-cdd8-42d5-adc8-dca9be0898f9",
   "metadata": {},
   "outputs": [
    {
     "data": {
      "application/vnd.jupyter.widget-view+json": {
       "model_id": "b86e238966714738a54e1051d98dd997",
       "version_major": 2,
       "version_minor": 0
      },
      "text/plain": [
       "Evaluating:   0%|          | 0/68 [00:00<?, ?it/s]"
      ]
     },
     "metadata": {},
     "output_type": "display_data"
    },
    {
     "data": {
      "text/html": [
       "<div>\n",
       "<style scoped>\n",
       "    .dataframe tbody tr th:only-of-type {\n",
       "        vertical-align: middle;\n",
       "    }\n",
       "\n",
       "    .dataframe tbody tr th {\n",
       "        vertical-align: top;\n",
       "    }\n",
       "\n",
       "    .dataframe thead th {\n",
       "        text-align: right;\n",
       "    }\n",
       "</style>\n",
       "<table border=\"1\" class=\"dataframe\">\n",
       "  <thead>\n",
       "    <tr style=\"text-align: right;\">\n",
       "      <th></th>\n",
       "      <th>question</th>\n",
       "      <th>ground_truth</th>\n",
       "      <th>answer</th>\n",
       "      <th>contexts</th>\n",
       "      <th>context_precision</th>\n",
       "      <th>faithfulness</th>\n",
       "      <th>answer_relevancy</th>\n",
       "      <th>context_recall</th>\n",
       "    </tr>\n",
       "  </thead>\n",
       "  <tbody>\n",
       "    <tr>\n",
       "      <th>0</th>\n",
       "      <td>Who won the 2024 Sri Lankan Presidential Elect...</td>\n",
       "      <td>The winner of the 2024 Sri Lankan Presidential...</td>\n",
       "      <td>Ranil Wickremesinghe won the 2024 Sri Lankan P...</td>\n",
       "      <td>[September 21, 2024 – 2024 Sri Lankan presiden...</td>\n",
       "      <td>0.0</td>\n",
       "      <td>0.0</td>\n",
       "      <td>0.998467</td>\n",
       "      <td>0.0</td>\n",
       "    </tr>\n",
       "    <tr>\n",
       "      <th>1</th>\n",
       "      <td>Who won the 2022 soccer world cup?</td>\n",
       "      <td>The winner of the 2022 Soccer World Cup was Ar...</td>\n",
       "      <td>Argentina.</td>\n",
       "      <td>[December 18, 2022 – Argentina wins the 2022 F...</td>\n",
       "      <td>1.0</td>\n",
       "      <td>1.0</td>\n",
       "      <td>0.963889</td>\n",
       "      <td>1.0</td>\n",
       "    </tr>\n",
       "    <tr>\n",
       "      <th>2</th>\n",
       "      <td>When did Sweden join NATO?</td>\n",
       "      <td>Sweden joined NATO in 2024</td>\n",
       "      <td>March 7, 2024</td>\n",
       "      <td>[March 7, 2024 – As the final Nordic country t...</td>\n",
       "      <td>1.0</td>\n",
       "      <td>1.0</td>\n",
       "      <td>0.989420</td>\n",
       "      <td>1.0</td>\n",
       "    </tr>\n",
       "    <tr>\n",
       "      <th>3</th>\n",
       "      <td>Who joined NATO in 2023?</td>\n",
       "      <td>Finland joined NATO in 2023</td>\n",
       "      <td>Finland</td>\n",
       "      <td>[April 4, 2023 – Finland becomes the 31st memb...</td>\n",
       "      <td>1.0</td>\n",
       "      <td>1.0</td>\n",
       "      <td>0.894772</td>\n",
       "      <td>1.0</td>\n",
       "    </tr>\n",
       "    <tr>\n",
       "      <th>4</th>\n",
       "      <td>Who joined NATO in 2024?</td>\n",
       "      <td>Sweden joined NATO in 2024</td>\n",
       "      <td>Sweden became the 32nd member of NATO in 2024,...</td>\n",
       "      <td>[April 4, 2023 – Finland becomes the 31st memb...</td>\n",
       "      <td>0.5</td>\n",
       "      <td>1.0</td>\n",
       "      <td>0.859374</td>\n",
       "      <td>1.0</td>\n",
       "    </tr>\n",
       "  </tbody>\n",
       "</table>\n",
       "</div>"
      ],
      "text/plain": [
       "                                            question  \\\n",
       "0  Who won the 2024 Sri Lankan Presidential Elect...   \n",
       "1                 Who won the 2022 soccer world cup?   \n",
       "2                         When did Sweden join NATO?   \n",
       "3                           Who joined NATO in 2023?   \n",
       "4                           Who joined NATO in 2024?   \n",
       "\n",
       "                                        ground_truth  \\\n",
       "0  The winner of the 2024 Sri Lankan Presidential...   \n",
       "1  The winner of the 2022 Soccer World Cup was Ar...   \n",
       "2                         Sweden joined NATO in 2024   \n",
       "3                        Finland joined NATO in 2023   \n",
       "4                         Sweden joined NATO in 2024   \n",
       "\n",
       "                                              answer  \\\n",
       "0  Ranil Wickremesinghe won the 2024 Sri Lankan P...   \n",
       "1                                         Argentina.   \n",
       "2                                      March 7, 2024   \n",
       "3                                            Finland   \n",
       "4  Sweden became the 32nd member of NATO in 2024,...   \n",
       "\n",
       "                                            contexts  context_precision  \\\n",
       "0  [September 21, 2024 – 2024 Sri Lankan presiden...                0.0   \n",
       "1  [December 18, 2022 – Argentina wins the 2022 F...                1.0   \n",
       "2  [March 7, 2024 – As the final Nordic country t...                1.0   \n",
       "3  [April 4, 2023 – Finland becomes the 31st memb...                1.0   \n",
       "4  [April 4, 2023 – Finland becomes the 31st memb...                0.5   \n",
       "\n",
       "   faithfulness  answer_relevancy  context_recall  \n",
       "0           0.0          0.998467             0.0  \n",
       "1           1.0          0.963889             1.0  \n",
       "2           1.0          0.989420             1.0  \n",
       "3           1.0          0.894772             1.0  \n",
       "4           1.0          0.859374             1.0  "
      ]
     },
     "execution_count": 36,
     "metadata": {},
     "output_type": "execute_result"
    },
    {
     "name": "stderr",
     "output_type": "stream",
     "text": [
      "Traceback (most recent call last):\n",
      "  File \"/opt/conda/lib/python3.10/runpy.py\", line 196, in _run_module_as_main\n",
      "    return _run_code(code, main_globals, None,\n",
      "  File \"/opt/conda/lib/python3.10/runpy.py\", line 86, in _run_code\n",
      "    exec(code, run_globals)\n",
      "  File \"/opt/conda/lib/python3.10/site-packages/ipykernel_launcher.py\", line 18, in <module>\n",
      "    app.launch_new_instance()\n",
      "  File \"/opt/conda/lib/python3.10/site-packages/traitlets/config/application.py\", line 1075, in launch_instance\n",
      "    app.start()\n",
      "  File \"/opt/conda/lib/python3.10/site-packages/ipykernel/kernelapp.py\", line 739, in start\n",
      "    self.io_loop.start()\n",
      "  File \"/opt/conda/lib/python3.10/site-packages/tornado/platform/asyncio.py\", line 205, in start\n",
      "    self.asyncio_loop.run_forever()\n",
      "  File \"/opt/conda/lib/python3.10/asyncio/base_events.py\", line 603, in run_forever\n",
      "    self._run_once()\n",
      "  File \"/opt/conda/lib/python3.10/asyncio/base_events.py\", line 1894, in _run_once\n",
      "    handle = self._ready.popleft()\n",
      "IndexError: pop from an empty deque\n"
     ]
    }
   ],
   "source": [
    "dataset_tsne = Dataset.from_dict(dataset_dict_tsne)\n",
    "\n",
    "result =evaluate(\n",
    "    dataset_tsne,\n",
    "    metrics=[\n",
    "        context_precision,\n",
    "        faithfulness,\n",
    "        answer_relevancy,\n",
    "        context_recall,\n",
    "    ], \n",
    ")\n",
    "\n",
    "result.to_pandas().head()\n"
   ]
  },
  {
   "cell_type": "code",
   "execution_count": null,
   "id": "a2d9bf20-8dd1-4ce9-81fe-e4d23374aa4d",
   "metadata": {},
   "outputs": [],
   "source": []
  },
  {
   "cell_type": "code",
   "execution_count": null,
   "id": "c60f5143-db5a-4d7f-ac56-e8885947732b",
   "metadata": {},
   "outputs": [],
   "source": []
  }
 ],
 "metadata": {
  "kernelspec": {
   "display_name": "Python 3 (ipykernel)",
   "language": "python",
   "name": "python3"
  },
  "language_info": {
   "codemirror_mode": {
    "name": "ipython",
    "version": 3
   },
   "file_extension": ".py",
   "mimetype": "text/x-python",
   "name": "python",
   "nbconvert_exporter": "python",
   "pygments_lexer": "ipython3",
   "version": "3.10.14"
  }
 },
 "nbformat": 4,
 "nbformat_minor": 5
}
